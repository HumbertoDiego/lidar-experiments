{
 "cells": [
  {
   "cell_type": "code",
   "execution_count": 2,
   "metadata": {},
   "outputs": [
    {
     "name": "stdout",
     "output_type": "stream",
     "text": [
      "Writing Dockerfile\n"
     ]
    }
   ],
   "source": [
    "%%writefile Dockerfile\n",
    "FROM ros:noetic\n",
    "\n",
    "RUN apt update && apt install git -y\n",
    "\n",
    "RUN cd ~ && mkdir -p ldlidar_ros_ws/src\n",
    "\n",
    "RUN cd ldlidar_ros_ws/src && git clone  https://github.com/ldrobotSensorTeam/ldlidar_sl_ros.git\n",
    "\n",
    "RUN chmod 777 /dev/ttyACM0\n",
    "\n",
    "RUN cd ~/ldlidar_ros_ws && sed -i 's/ttyUSB0/ttyACM0/' src/ldlidar_sl_ros/launch/ld14p.launch \n",
    "\n",
    "RUN cd ~/ldlidar_ros_ws && rosdep install --from-paths src --ignore-src -r -y\n",
    "\n",
    "RUN cd ~/ldlidar_ros_ws && catkin_make\n",
    "\n",
    "RUN cd ~/ldlidar_ros_ws && source devel/setup.bash\n",
    "RUN echo \"source ~/ldlidar_ros_ws/devel/setup.bash\" >> ~/.bashrc\n",
    "# launch ros package roslaunch ldlidar_sl_ros ld14.launch\n",
    "CMD [\"roslaunch\", \"ldlidar_sl_ros\", \"ld14p.launch\"]"
   ]
  },
  {
   "cell_type": "code",
   "execution_count": null,
   "metadata": {},
   "outputs": [],
   "source": [
    "#!sudo chmod 777 /dev/ttyACM0\n",
    "#!sudo docker run -it --rm --privileged ros:noetic bashub"
   ]
  }
 ],
 "metadata": {
  "kernelspec": {
   "display_name": "base",
   "language": "python",
   "name": "python3"
  },
  "language_info": {
   "codemirror_mode": {
    "name": "ipython",
    "version": 3
   },
   "file_extension": ".py",
   "mimetype": "text/x-python",
   "name": "python",
   "nbconvert_exporter": "python",
   "pygments_lexer": "ipython3",
   "version": "3.11.7"
  }
 },
 "nbformat": 4,
 "nbformat_minor": 2
}
