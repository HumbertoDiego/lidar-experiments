{
 "cells": [
  {
   "cell_type": "markdown",
   "metadata": {
    "id": "Pq2ydCjO-885"
   },
   "source": [
    "# Cap 1 - ICP: standard algorithm for obtain rigid body transform in practice"
   ]
  },
  {
   "cell_type": "markdown",
   "metadata": {
    "id": "7Rx0Vw-QO4pO"
   },
   "source": [
    "## Vanilla ICP based on SVD"
   ]
  },
  {
   "cell_type": "markdown",
   "metadata": {
    "id": "BbgwddhpO8FE"
   },
   "source": [
    "### 1) ICP precursor - point clouds with corresponding points\n",
    "\n"
   ]
  },
  {
   "cell_type": "markdown",
   "metadata": {
    "id": "xtpX6jV4fbnf"
   },
   "source": [
    "#### a) Formal Problem Definition\n",
    "\n",
    "- Let, $a_i$ be a point $i$ of set $a$ (with $n_a$ points), and $b_i$ a point $i$ on set $b$ (with $n_b$ points), homologous with $a_i$;\n",
    "\n",
    "- We wish to find $R$ and $t$ of the rigid body transform: $a^{new}_i = Ra_i +t$;\n",
    "\n",
    "- That minimizes the error function:\n",
    "\n",
    "$$\n",
    "e = \\sum|| Ra_i +t - b_i||^2 = min  \\ \\ \\ \\ \\ \\ \\ \\ (1)\n",
    "$$\n",
    "\n"
   ]
  },
  {
   "cell_type": "markdown",
   "metadata": {
    "id": "tUah33okfqwX"
   },
   "source": [
    "#### b) Direct Optimal Solution\n",
    "\n",
    "A solution to equation (1) with no initial guess and better than anyother is:\n",
    "\n",
    "- Shift all poits to be centered in its center of mass;\n",
    "\n",
    "- Perform a rotational alingment using Singular Value Decomposition (SVD).\n",
    "\n",
    "In math terms, first we do a centroid calculation:\n",
    "\n",
    "$$\n",
    "\\overline{a} = \\frac{1}{n_a}\\sum a_i \\\\\n",
    "\\overline{b} = \\frac{1}{n_b}\\sum b_i\n",
    "$$\n",
    "\n",
    "Do the shift:\n",
    "\n",
    "$$\n",
    "a'_i = a_i - \\overline{a}  \\\\\n",
    "b'_i = b_i - \\overline{b}\n",
    "$$\n",
    "\n",
    "Compute Cross covariance matrix $H$:\n",
    "\n",
    "$$\n",
    "H = \\sum a'_i{b'}^T_i\n",
    "$$\n",
    "\n",
    "Do a SVD on $H$:\n",
    "\n",
    "$$\n",
    "U\\Sigma V^T = H\n",
    "$$\n",
    "\n",
    "The optimal $R$ ([proof here](https://youtu.be/dhzLQfDBx2Q?si=FDIqaFbgLxZkiamq&t=2516)) is found to be:\n",
    "\n",
    "$$\n",
    "R = VU^T\n",
    "$$\n",
    "\n",
    "Then, optimal $t$ is:\n",
    "\n",
    "$$\n",
    "t = \\overline{b} - R\\overline{a}\n",
    "$$"
   ]
  },
  {
   "cell_type": "markdown",
   "metadata": {
    "id": "KJfZHjfjfAtf"
   },
   "source": [
    "\n",
    "### 2) ICP without corresponding points\n",
    "\n",
    "\n",
    "\n"
   ]
  },
  {
   "cell_type": "markdown",
   "metadata": {
    "id": "oeIsFmOqfnXZ"
   },
   "source": [
    "#### a) Formal Problem Definition\n",
    "\n",
    "- Let, $a$ be a point $i$ of set $a$ (with $n_a$ points), and $b_k$ a point $k$ on set $b$ (with $n_b$ points);\n",
    "\n",
    "- We have a initial guess or some N point correspondeces;\n",
    "\n",
    "- We wish to iteratively find the association $a_i$-$b_i$ and the transformation $R$ and $t$ of the rigid body transform: $a^{new}_i = Ra_i +t$;\n",
    "\n",
    "- That minimizes the error function:\n",
    "\n",
    "$$\n",
    "e = \\sum|| Ra_i +t - b_i||^2 = min  \\ \\ \\ \\ \\ \\ \\ \\ (1)\n",
    "$$\n"
   ]
  },
  {
   "cell_type": "markdown",
   "metadata": {
    "id": "tijkPdB0fiQ-"
   },
   "source": [
    "#### b) Iterative Solution\n",
    "\n",
    "- Pick for every point its closest neighnoor in the other point cloud;\n",
    "\n",
    "- Compute the rigid body trasnform and align using SVD;\n",
    "\n",
    "- Repeat till convergence.\n",
    "\n",
    "In math terms, first we do a centroid calculation:\n",
    "\n",
    "$$\n",
    "\\overline{a} = \\frac{1}{n_a}\\sum a_i \\\\\n",
    "\\overline{b} = \\frac{1}{n_b}\\sum b_i\n",
    "$$\n",
    "\n",
    "Do the shift:\n",
    "\n",
    "$$\n",
    "a'_i = a_i - \\overline{a} \\\\\n",
    "b'_i = b_i - \\overline{b}\n",
    "$$\n",
    "\n",
    "Compute correspondences with nearest neighboor:\n",
    "\n",
    "```python\n",
    "correspondences = []\n",
    "for k in range(n_b):\n",
    "  distmin = 1000000000\n",
    "  for i in range(n_a):\n",
    "    dist = np.linalg.norm(a[i]-b[k])\n",
    "    if dist<distmin:\n",
    "      distmin = dist\n",
    "      idx = i\n",
    "  correspondences.append( (k,idx,distmin) )\n",
    "```\n",
    "\n",
    "Compute Cross covariance matrix $H$:\n",
    "\n",
    "$$\n",
    "H = \\sum a'_i {b'}^T_i\n",
    "$$\n",
    "\n",
    "Do a SVD on $H$:\n",
    "\n",
    "$$\n",
    "U\\Sigma V^T = H\n",
    "$$\n",
    "\n",
    "The optimal $R$ is found to be:\n",
    "\n",
    "$$\n",
    "R^{new} = VU^T\n",
    "$$\n",
    "\n",
    "Then, optimal $t$ is:\n",
    "\n",
    "$$\n",
    "t^{new} = \\overline{b} - R^{new}\\overline{a}\n",
    "$$\n",
    "\n",
    "If it's not the first iteration, remember to stack the transformations:\n",
    "\n",
    "$$\n",
    "R = R \\cdot R^{new} \\\\\n",
    "t = t+t^{new} \\\\\n",
    "$$\n",
    "\n",
    "Update $a$ in this iteration:\n",
    "\n",
    "$$\n",
    "a^{new}_i =  R{a_i} + t\n",
    "$$\n",
    "\n",
    "Recenter this new $a$:\n",
    "\n",
    "$$\n",
    "a'_i = a^{new}_i - \\overline{a} \\\\\n",
    "$$\n",
    "\n",
    "Compute error:\n",
    "\n",
    "$$\n",
    "error = || a' - b' ||\n",
    "$$\n",
    "\n",
    "If error do not reach the tolerance, repeat 1st step.\n"
   ]
  },
  {
   "cell_type": "markdown",
   "metadata": {
    "id": "sZJ7yhfEfKsW"
   },
   "source": [
    "### 3) Problems with the Vanilla ICP\n",
    "\n",
    "- May require many iterations;\n",
    "- Bad correspondentes degrade the results or stop them at local minima.\n",
    "\n"
   ]
  },
  {
   "cell_type": "markdown",
   "metadata": {
    "id": "Ttaisi9sfSY2"
   },
   "source": [
    "### 4) ICP variants\n",
    "\n",
    "- Non linear Least squares based ICP\n",
    "- Using point to plane metric with Least Squares ICP\n",
    "- Different data associations strategies\n",
    "- Weight the correspondences, i.e:\n",
    "\n",
    "Distant points will have less importance and the mean becames weighted mean.\n",
    "\n",
    "| b   | closest a | distance |  weight function (w) | normalized weight(p) |\n",
    "| --- | --------- |--------- | -------     | -------------------- |\n",
    "| 1   | 2         | 320      | 1/320       |  (1/320)/$\\sum w_i$  |\n",
    "| 2   | 2         | 227      | 1/227       |  (1/227)/$\\sum w_i$  |\n",
    "| 3   | 2         | 120      | 1/120       |  (1/120)/$\\sum w_i$  |\n",
    "| 4   | 7         | 310      | 1/310       |  (1/310)/$\\sum w_i$  |\n",
    "| 5   | 9         | 287      | 1/287       |  (1/287)/$\\sum w_i$  |\n",
    "| ... | ...       | ...      | ...         |  ...|\n",
    "| n_b | i         | distmin  | 1/distmin   |  (1/distmin)/$\\sum w_i$  |\n",
    "\n",
    "$$\n",
    "\\overline{a} = \\frac{\\sum a_ip_i}{\\sum p_i} \\\\\n",
    "\\overline{b} = \\frac{\\sum b_ip_i}{\\sum p_i} \\\\\n",
    "H = \\sum a'_i {b'}^T_i p_i\n",
    "$$\n",
    "\n",
    "- remove outliers, i.e:\n",
    "\n",
    " Find and remove higher distances => Small but good number of matched data  => less computation with almost the same results.\n",
    "\n",
    "| b   | closest a | distance |  remove  ? |\n",
    "| --- | --------- |--------- | --------- |\n",
    "| 1   | 2         | 320      | yes |\n",
    "| 2   | 2         | 227      | yes |\n",
    "| 3   | 2         | 120      | no |\n",
    "| 4   | 7         | 310      | |\n",
    "| 5   | 9         | 287      | |\n",
    "| ... | ...       | ...      | |\n",
    "| n_b | i         | distmin  | |\n",
    "\n",
    "Also we could remove $t%$ of the higher distances. $t$ can be adaptative. Sometimes 10%, 20% or 50% dependig on situation. For example, if we have moving objetct between LiDAR point clouds, we will want for find and remove  these object points in correspondece or give to it less weight.\n"
   ]
  },
  {
   "cell_type": "markdown",
   "metadata": {
    "id": "tGpPrOFSwC0a"
   },
   "source": [
    "## Easy dataset"
   ]
  },
  {
   "cell_type": "markdown",
   "metadata": {
    "id": "p3RpVjoLQkCI"
   },
   "source": [
    "### Imports"
   ]
  },
  {
   "cell_type": "code",
   "execution_count": 27,
   "metadata": {
    "colab": {
     "base_uri": "https://localhost:8080/"
    },
    "executionInfo": {
     "elapsed": 3826,
     "status": "ok",
     "timestamp": 1729615178349,
     "user": {
      "displayName": "Humberto Alves",
      "userId": "14666912073515018808"
     },
     "user_tz": 180
    },
    "id": "ICxJ7gbQQU0Z",
    "outputId": "a9e61893-8ce8-4706-954f-583f51be6ce3"
   },
   "outputs": [
    {
     "name": "stdout",
     "output_type": "stream",
     "text": [
      "Requirement already satisfied: ipython-autotime in c:\\programdata\\anaconda3\\lib\\site-packages (0.3.2)\n",
      "Requirement already satisfied: ipython in c:\\programdata\\anaconda3\\lib\\site-packages (from ipython-autotime) (8.20.0)\n",
      "Requirement already satisfied: decorator in c:\\programdata\\anaconda3\\lib\\site-packages (from ipython->ipython-autotime) (5.1.1)\n",
      "Requirement already satisfied: jedi>=0.16 in c:\\programdata\\anaconda3\\lib\\site-packages (from ipython->ipython-autotime) (0.18.1)\n",
      "Requirement already satisfied: matplotlib-inline in c:\\programdata\\anaconda3\\lib\\site-packages (from ipython->ipython-autotime) (0.1.6)\n",
      "Requirement already satisfied: prompt-toolkit<3.1.0,>=3.0.41 in c:\\programdata\\anaconda3\\lib\\site-packages (from ipython->ipython-autotime) (3.0.43)\n",
      "Requirement already satisfied: pygments>=2.4.0 in c:\\programdata\\anaconda3\\lib\\site-packages (from ipython->ipython-autotime) (2.15.1)\n",
      "Requirement already satisfied: stack-data in c:\\programdata\\anaconda3\\lib\\site-packages (from ipython->ipython-autotime) (0.2.0)\n",
      "Requirement already satisfied: traitlets>=5 in c:\\programdata\\anaconda3\\lib\\site-packages (from ipython->ipython-autotime) (5.7.1)\n",
      "Requirement already satisfied: colorama in c:\\programdata\\anaconda3\\lib\\site-packages (from ipython->ipython-autotime) (0.4.6)\n",
      "Requirement already satisfied: parso<0.9.0,>=0.8.0 in c:\\programdata\\anaconda3\\lib\\site-packages (from jedi>=0.16->ipython->ipython-autotime) (0.8.3)\n",
      "Requirement already satisfied: wcwidth in c:\\programdata\\anaconda3\\lib\\site-packages (from prompt-toolkit<3.1.0,>=3.0.41->ipython->ipython-autotime) (0.2.5)\n",
      "Requirement already satisfied: executing in c:\\programdata\\anaconda3\\lib\\site-packages (from stack-data->ipython->ipython-autotime) (0.8.3)\n",
      "Requirement already satisfied: asttokens in c:\\programdata\\anaconda3\\lib\\site-packages (from stack-data->ipython->ipython-autotime) (2.0.5)\n",
      "Requirement already satisfied: pure-eval in c:\\programdata\\anaconda3\\lib\\site-packages (from stack-data->ipython->ipython-autotime) (0.2.2)\n",
      "Requirement already satisfied: six in c:\\programdata\\anaconda3\\lib\\site-packages (from asttokens->stack-data->ipython->ipython-autotime) (1.16.0)\n",
      "The autotime extension is already loaded. To reload it, use:\n",
      "  %reload_ext autotime\n",
      "time: 5.02 s (started: 2024-11-15 17:23:52 -03:00)\n"
     ]
    }
   ],
   "source": [
    "import os\n",
    "import pandas as pd\n",
    "import numpy as np\n",
    "import matplotlib.pyplot as plt\n",
    "import cv2\n",
    "from pprint import pprint\n",
    "import plotly.graph_objects as go\n",
    "from tqdm.notebook import tqdm\n",
    "from sklearn.neighbors import KDTree\n",
    "\n",
    "!pip install ipython-autotime\n",
    "%load_ext autotime"
   ]
  },
  {
   "cell_type": "markdown",
   "metadata": {
    "id": "VYi1VS3MZPCe"
   },
   "source": [
    "### Functions"
   ]
  },
  {
   "cell_type": "code",
   "execution_count": 28,
   "metadata": {
    "colab": {
     "base_uri": "https://localhost:8080/"
    },
    "executionInfo": {
     "elapsed": 9,
     "status": "ok",
     "timestamp": 1729615180217,
     "user": {
      "displayName": "Humberto Alves",
      "userId": "14666912073515018808"
     },
     "user_tz": 180
    },
    "id": "HHPtEm6NZQe9",
    "outputId": "4bb58af5-c1de-48a0-809e-480e7e4ef679"
   },
   "outputs": [
    {
     "name": "stdout",
     "output_type": "stream",
     "text": [
      "time: 15 ms (started: 2024-11-15 17:23:57 -03:00)\n"
     ]
    }
   ],
   "source": [
    "def nearest_neighbor(P, Q, good_guess=()):\n",
    "    '''\n",
    "    Find the nearest (Euclidean) neighbor in dst for each point in src\n",
    "    Input:\n",
    "        src: Nxm array of points\n",
    "        dst: Nxm array of points\n",
    "    Output:\n",
    "        List:\n",
    "          indices of point cloud P\n",
    "          indices of mathced point cloud Q\n",
    "          distance\n",
    "    '''\n",
    "    p_size = P.shape[1]\n",
    "    q_size = Q.shape[1]\n",
    "    correspondences = []\n",
    "    for i in tqdm(range(p_size)):\n",
    "      if good_guess and i == good_guess[0]:\n",
    "        correspondences.append(good_guess)\n",
    "      else:\n",
    "        p_point = P[:, i]\n",
    "        min_dist = 1000000\n",
    "        chosen_idx = -1\n",
    "        for j in range(q_size):\n",
    "            q_point = Q[:, j]\n",
    "            dist = np.linalg.norm(q_point - p_point)\n",
    "            if dist < min_dist:\n",
    "                min_dist = dist\n",
    "                chosen_idx = j\n",
    "        correspondences.append((i, chosen_idx, min_dist))\n",
    "    return correspondences\n",
    "\n",
    "def kdtree_nearest_neighbor(P, Q):\n",
    "    '''\n",
    "    Find the nearest (Euclidean) neighbor in dst for each point in src by KDTree search (faster)\n",
    "    Input:\n",
    "        src: Nxm array of points\n",
    "        dst: Nxm array of points\n",
    "    Output:\n",
    "        List:\n",
    "          indices of point cloud P\n",
    "          indices of mathced point cloud Q\n",
    "          distance\n",
    "    '''\n",
    "    tree = KDTree(Q.T)\n",
    "    p_size = P.shape[1]\n",
    "    q_size = Q.shape[1]\n",
    "    correspondences = []\n",
    "    for i in range(p_size):\n",
    "        p_point = P[:, i]\n",
    "        nearest_dist, nearest_ind = tree.query([p_point], k=2)  # k=2 nearest neighbors where k1 = identity\n",
    "        d = nearest_dist[:,1][0]\n",
    "        j = nearest_ind[:,1][0]\n",
    "        correspondences.append((i, j, d))\n",
    "    return correspondences\n",
    "\n",
    "# Transform parameters\n",
    "def Rpry(pitch, roll, yaw):\n",
    "    # Single rotation matrix combining pitch, roll, yaw --> sim, talvez, não\n",
    "    return np.array([[np.cos(yaw)*np.cos(pitch), np.cos(yaw)*np.sin(pitch)*np.sin(roll) - np.sin(yaw)*np.cos(roll), np.cos(yaw)*np.sin(pitch)*np.cos(roll) + np.sin(yaw)*np.sin(roll)],\n",
    "                    [np.sin(yaw)*np.cos(pitch), np.sin(yaw)*np.sin(pitch)*np.sin(roll) + np.cos(yaw)*np.cos(roll), np.sin(yaw)*np.sin(pitch)*np.cos(roll) - np.cos(yaw)*np.sin(roll)],\n",
    "                    [-np.sin(pitch), np.cos(pitch) * np.sin(roll), np.cos(pitch) * np.cos(roll)] ])\n",
    "\n",
    "# plot functions\n",
    "def plot_data(data_1, data_2, label_1, label_2, markersize_1=8, markersize_2=8,title=\"\"):\n",
    "    fig = plt.figure(figsize=(10, 6))\n",
    "    ax = fig.add_subplot(111)\n",
    "    ax.axis('equal')\n",
    "    if data_1 is not None:\n",
    "        x_p, y_p = data_1\n",
    "        ax.plot(x_p, y_p, color='#336699', markersize=markersize_1, marker='o', linestyle=\":\", label=label_1)\n",
    "    if data_2 is not None:\n",
    "        x_q, y_q = data_2\n",
    "        ax.plot(x_q, y_q, color='orangered', markersize=markersize_2, marker='o', linestyle=\":\", label=label_2)\n",
    "    ax.legend()\n",
    "    ax.set_title(title)\n",
    "    return ax\n",
    "\n",
    "def draw_correspondeces(P, Q, correspondences, ax):\n",
    "    label_added = False\n",
    "    for i, j, d in correspondences:\n",
    "        x = [P[0, i], Q[0, j]]\n",
    "        y = [P[1, i], Q[1, j]]\n",
    "        if not label_added:\n",
    "            ax.plot(x, y, color='grey', label='correpondences')\n",
    "            label_added = True\n",
    "        else:\n",
    "            ax.plot(x, y, color='grey')\n",
    "    ax.legend()\n",
    "\n",
    "def plotar_3d(x1,y1,z1,x2=[],y2=[],z2=[]):\n",
    "  ax = plt.figure().add_subplot(projection='3d')\n",
    "  ax.scatter(xs=x1, ys=y1, zs=z1, facecolor=(1,0,0,.4), edgecolor=(1,0,0,.1))\n",
    "  if len(x2)==len(y2) and len(y2)==len(z2) and len(x2)>0:\n",
    "    ax.scatter(xs=x2, ys=y2, zs=z2, facecolor=(0,0,1,.4), edgecolor=(0,0,1,.14))\n",
    "  ax.set_xlabel('x')\n",
    "  ax.set_ylabel('y')\n",
    "  ax.set_zlabel('z')\n",
    "  return ax"
   ]
  },
  {
   "cell_type": "markdown",
   "metadata": {
    "id": "jc2xlpuzpo9-"
   },
   "source": [
    "### Execution"
   ]
  },
  {
   "cell_type": "code",
   "execution_count": 29,
   "metadata": {
    "colab": {
     "base_uri": "https://localhost:8080/",
     "height": 539
    },
    "executionInfo": {
     "elapsed": 767,
     "status": "ok",
     "timestamp": 1729615507760,
     "user": {
      "displayName": "Humberto Alves",
      "userId": "14666912073515018808"
     },
     "user_tz": 180
    },
    "id": "N4ArYIoPvOnQ",
    "outputId": "5fa339f8-4a4e-415a-d738-7fa73ab349cb"
   },
   "outputs": [
    {
     "data": {
      "image/png": "[encoded data removed]",
      "text/plain": [
       "<Figure size 1000x600 with 1 Axes>"
      ]
     },
     "metadata": {},
     "output_type": "display_data"
    },
    {
     "name": "stdout",
     "output_type": "stream",
     "text": [
      "time: 125 ms (started: 2024-11-15 17:23:57 -03:00)\n"
     ]
    }
   ],
   "source": [
    "# initialize pertrubation rotation\n",
    "angle = np.pi / 4\n",
    "R_true = np.array([[np.cos(angle), -np.sin(angle)],\n",
    "                   [np.sin(angle),  np.cos(angle)]])\n",
    "t_true = np.array([[-2], [5]])\n",
    "\n",
    "# Generate data as a list of 2d points\n",
    "num_points = 30\n",
    "true_data = np.zeros((2, num_points))\n",
    "true_data[0, :] = range(0, num_points)\n",
    "true_data[1, :] = 0.2 * true_data[0, :] * np.sin(0.5 * true_data[0, :])\n",
    "# Move the data\n",
    "moved_data = R_true.dot(true_data) + t_true\n",
    "\n",
    "# Assign to variables we use in formulas.\n",
    "b = true_data\n",
    "a = moved_data\n",
    "\n",
    "plot_data(moved_data, true_data, \"a: moved data\", \"b: true data\")\n",
    "plt.show()"
   ]
  },
  {
   "cell_type": "code",
   "execution_count": 30,
   "metadata": {
    "colab": {
     "base_uri": "https://localhost:8080/",
     "height": 578
    },
    "executionInfo": {
     "elapsed": 422,
     "status": "ok",
     "timestamp": 1729615518496,
     "user": {
      "displayName": "Humberto Alves",
      "userId": "14666912073515018808"
     },
     "user_tz": 180
    },
    "id": "6Rmit1s_wiIk",
    "outputId": "398e94e0-c0af-441c-e9ae-4c5cabe40038"
   },
   "outputs": [
    {
     "name": "stdout",
     "output_type": "stream",
     "text": [
      "(2, 30) \n",
      " (2, 30)\n"
     ]
    },
    {
     "data": {
      "image/png": "[encoded data removed]",
      "text/plain": [
       "<Figure size 1000x600 with 1 Axes>"
      ]
     },
     "metadata": {},
     "output_type": "display_data"
    },
    {
     "name": "stdout",
     "output_type": "stream",
     "text": [
      "time: 125 ms (started: 2024-11-15 17:23:57 -03:00)\n"
     ]
    }
   ],
   "source": [
    "# shift point clouds to its centroid\n",
    "a_center = a.mean(axis=1).reshape((2,1))\n",
    "b_center = b.mean(axis=1).reshape((2,1))\n",
    "a_centered = a - a_center\n",
    "b_centered = b - b_center\n",
    "print(a_centered.shape,'\\n',b_centered.shape)\n",
    "ax = plot_data(a_centered, b_centered,\n",
    "               label_1='Moved data centered',\n",
    "               label_2='True data centered')\n",
    "plt.show()"
   ]
  },
  {
   "cell_type": "code",
   "execution_count": 31,
   "metadata": {
    "colab": {
     "base_uri": "https://localhost:8080/",
     "height": 575,
     "referenced_widgets": [
      "9845518d22674026be1a85e3e91d1ba4",
      "0805cf7f9f4140189413a225a4542289",
      "ad86f61c98c74cc7b58387c0cd056240",
      "96685e2f3f9745fd97c77899de203180",
      "195fb441d62742d0b652fb9f602a9861",
      "26aea210a660458b8f29279f59070383",
      "04ca2352af3545a3bab4ad13b7fa2a57",
      "e87a855ab1904cb09b5cae494c96f8a0",
      "061bf429d8a64948882036d03859bd32",
      "c6ce4d6bbddf4a439e45431d3f3bb5e4",
      "7b611c64bc1740aeba880ce626b314f8"
     ]
    },
    "executionInfo": {
     "elapsed": 963,
     "status": "ok",
     "timestamp": 1729615522708,
     "user": {
      "displayName": "Humberto Alves",
      "userId": "14666912073515018808"
     },
     "user_tz": 180
    },
    "id": "zOZtFWAqyvoS",
    "outputId": "c23f7dfe-a73c-4eaa-ca1d-1545b8cbba05"
   },
   "outputs": [
    {
     "data": {
      "application/vnd.jupyter.widget-view+json": {
       "model_id": "19ec9676dd3f4d3fb7023ecc39496966",
       "version_major": 2,
       "version_minor": 0
      },
      "text/plain": [
       "  0%|          | 0/30 [00:00<?, ?it/s]"
      ]
     },
     "metadata": {},
     "output_type": "display_data"
    },
    {
     "data": {
      "image/png": "[encoded data removed]",
      "text/plain": [
       "<Figure size 1000x600 with 1 Axes>"
      ]
     },
     "metadata": {},
     "output_type": "display_data"
    },
    {
     "name": "stdout",
     "output_type": "stream",
     "text": [
      "time: 172 ms (started: 2024-11-15 17:23:57 -03:00)\n"
     ]
    }
   ],
   "source": [
    "# compute correspondeces with nearest neighboor\n",
    "correspondences = nearest_neighbor(a_centered, b_centered)\n",
    "\n",
    "ax = plot_data(a_centered, b_centered,\n",
    "               label_1='a centered',\n",
    "               label_2='b centered')\n",
    "draw_correspondeces(a_centered, b_centered, correspondences, ax)\n",
    "plt.show()"
   ]
  },
  {
   "cell_type": "code",
   "execution_count": 32,
   "metadata": {
    "colab": {
     "base_uri": "https://localhost:8080/",
     "height": 1000
    },
    "executionInfo": {
     "elapsed": 748,
     "status": "ok",
     "timestamp": 1729615526228,
     "user": {
      "displayName": "Humberto Alves",
      "userId": "14666912073515018808"
     },
     "user_tz": 180
    },
    "id": "oCui6CXg1LZ3",
    "outputId": "e532d5ef-34cf-4932-d322-2af4082abaf4"
   },
   "outputs": [
    {
     "name": "stdout",
     "output_type": "stream",
     "text": [
      "correspondences:\n",
      "[(0, 9, 9.583370382167361),\n",
      " (1, 9, 8.599378309546077),\n",
      " (2, 9, 7.573984961243393),\n",
      " (3, 9, 6.542684363175932),\n",
      " (4, 9, 5.558516737089527),\n",
      " (5, 9, 4.695487736508346),\n",
      " (6, 9, 4.083061973288728),\n",
      " (7, 10, 3.670059281129938),\n",
      " (8, 10, 3.585859606218316),\n",
      " (9, 11, 3.6564739649822173),\n",
      " (10, 11, 3.45106635264372),\n",
      " (11, 11, 3.0131153506348674),\n",
      " (12, 12, 2.039075804902581),\n",
      " (13, 13, 1.172174460915771),\n",
      " (14, 13, 0.46173560221657767),\n",
      " (15, 14, 1.1195193063947346),\n",
      " (16, 15, 1.6016550206015505),\n",
      " (17, 15, 1.059223234895558),\n",
      " (18, 16, 0.44335097233871507),\n",
      " (19, 17, 1.1135164215140834),\n",
      " (20, 18, 2.305104512966225),\n",
      " (21, 19, 3.7167654968831574),\n",
      " (22, 26, 2.9096575771243636),\n",
      " (23, 26, 2.679895488977418),\n",
      " (24, 27, 3.8363261417472883),\n",
      " (25, 27, 5.504229218740353),\n",
      " (26, 27, 7.884657660443491),\n",
      " (27, 16, 9.873303227548387),\n",
      " (28, 28, 11.09941305882456),\n",
      " (29, 28, 11.038783982629349)]\n",
      "\n",
      "new_correspondences:\n",
      "[(6, 9, 4.083061973288728),\n",
      " (8, 10, 3.585859606218316),\n",
      " (11, 11, 3.0131153506348674),\n",
      " (12, 12, 2.039075804902581),\n",
      " (14, 13, 0.46173560221657767),\n",
      " (15, 14, 1.1195193063947346),\n",
      " (17, 15, 1.059223234895558),\n",
      " (18, 16, 0.44335097233871507),\n",
      " (19, 17, 1.1135164215140834),\n",
      " (20, 18, 2.305104512966225),\n",
      " (21, 19, 3.7167654968831574),\n",
      " (23, 26, 2.679895488977418),\n",
      " (24, 27, 3.8363261417472883),\n",
      " (29, 28, 11.038783982629349)]\n"
     ]
    },
    {
     "data": {
      "image/png": "[encoded data removed]",
      "text/plain": [
       "<Figure size 1000x600 with 1 Axes>"
      ]
     },
     "metadata": {},
     "output_type": "display_data"
    },
    {
     "name": "stdout",
     "output_type": "stream",
     "text": [
      "time: 125 ms (started: 2024-11-15 17:23:58 -03:00)\n"
     ]
    }
   ],
   "source": [
    "# (OPTIONALY) remove larger distances from the correspondences\n",
    "print('correspondences:')\n",
    "pprint(correspondences)\n",
    "\n",
    "js = list(set([j for i, j, d in correspondences]))\n",
    "grouped_correspondences = {}\n",
    "for i, j, d in correspondences:\n",
    "  if not j in grouped_correspondences:\n",
    "    grouped_correspondences[j] = [(i, d)]\n",
    "  else:\n",
    "    grouped_correspondences[j].append((i, d))\n",
    "\n",
    "new_correspondences = []\n",
    "for k in grouped_correspondences:\n",
    "  dmin = 100000000\n",
    "  for c in grouped_correspondences[k]:\n",
    "    if c[1]<dmin:\n",
    "      dmin = c[1]\n",
    "      idx = c[0]\n",
    "  new_correspondences.append((idx, k, dmin))\n",
    "\n",
    "print('\\nnew_correspondences:')\n",
    "pprint(new_correspondences)\n",
    "\n",
    "ax = plot_data(a_centered, b_centered,\n",
    "               label_1='a centered',\n",
    "               label_2='b centered')\n",
    "draw_correspondeces(a_centered, b_centered, new_correspondences, ax)\n",
    "plt.show()"
   ]
  },
  {
   "cell_type": "code",
   "execution_count": 33,
   "metadata": {
    "colab": {
     "base_uri": "https://localhost:8080/"
    },
    "executionInfo": {
     "elapsed": 265,
     "status": "ok",
     "timestamp": 1729615530999,
     "user": {
      "displayName": "Humberto Alves",
      "userId": "14666912073515018808"
     },
     "user_tz": 180
    },
    "id": "jcOZIako_lTV",
    "outputId": "7ba57b31-708b-4496-ab17-a21f506c4f80"
   },
   "outputs": [
    {
     "name": "stdout",
     "output_type": "stream",
     "text": [
      "[[1113.97274605 1153.71870122]\n",
      " [ 367.39948556  478.81890396]]\n",
      "time: 0 ns (started: 2024-11-15 17:23:58 -03:00)\n"
     ]
    }
   ],
   "source": [
    "# compute cross covariance matrix\n",
    "H = np.zeros((2,2))\n",
    "for i, j,d  in correspondences:\n",
    "  a_point = a_centered[:, [i]]\n",
    "  b_point = b_centered[:, [j]]\n",
    "  # H += np.outer(a_point,b_point)\n",
    "  H += b_point.dot(a_point.T)\n",
    "print(H)"
   ]
  },
  {
   "cell_type": "code",
   "execution_count": 34,
   "metadata": {
    "colab": {
     "base_uri": "https://localhost:8080/"
    },
    "executionInfo": {
     "elapsed": 266,
     "status": "ok",
     "timestamp": 1729615533236,
     "user": {
      "displayName": "Humberto Alves",
      "userId": "14666912073515018808"
     },
     "user_tz": 180
    },
    "id": "xfy9DAfCAXmk",
    "outputId": "7a52931d-7550-4dec-830d-cbf2e836334e"
   },
   "outputs": [
    {
     "name": "stdout",
     "output_type": "stream",
     "text": [
      "[1712.35558954   63.95608054]\n",
      "R_found =\n",
      " [[ 0.89668479  0.44266962]\n",
      " [-0.44266962  0.89668479]]\n",
      "t_found =\n",
      " [[  0.4278782 ]\n",
      " [-10.01055887]]\n",
      "time: 0 ns (started: 2024-11-15 17:23:58 -03:00)\n"
     ]
    }
   ],
   "source": [
    "# SVD  decomposition\n",
    "U, S, V_T = np.linalg.svd(H)\n",
    "print(S)\n",
    "R_found = U.dot(V_T)\n",
    "t_found = b_center - R_found.dot(a_center)\n",
    "print(\"R_found =\\n\", R_found)\n",
    "print(\"t_found =\\n\", t_found)\n",
    "R = R_found.copy()\n",
    "t = t_found.copy()"
   ]
  },
  {
   "cell_type": "code",
   "execution_count": 35,
   "metadata": {
    "colab": {
     "base_uri": "https://localhost:8080/",
     "height": 580
    },
    "executionInfo": {
     "elapsed": 552,
     "status": "ok",
     "timestamp": 1729615536553,
     "user": {
      "displayName": "Humberto Alves",
      "userId": "14666912073515018808"
     },
     "user_tz": 180
    },
    "id": "oxVp4TAXAmoL",
    "outputId": "ee93b067-7dbf-457d-bf99-261a69da17bd"
   },
   "outputs": [
    {
     "data": {
      "image/png": "[encoded data removed]",
      "text/plain": [
       "<Figure size 1000x600 with 1 Axes>"
      ]
     },
     "metadata": {},
     "output_type": "display_data"
    },
    {
     "name": "stdout",
     "output_type": "stream",
     "text": [
      "Squared diff: (a_corrected - b) =  16.052894296516946\n",
      "time: 187 ms (started: 2024-11-15 17:23:58 -03:00)\n"
     ]
    }
   ],
   "source": [
    "# Apply correction\n",
    "a_corrected = R_found.dot(a) + t_found\n",
    "ax = plot_data(a_corrected, b, label_1='a corrected', label_2='b', title=f\"{1}\")\n",
    "plt.show()\n",
    "print(\"Squared diff: (a_corrected - b) = \", np.linalg.norm(a_corrected - b))"
   ]
  },
  {
   "cell_type": "code",
   "execution_count": 36,
   "metadata": {
    "colab": {
     "base_uri": "https://localhost:8080/"
    },
    "executionInfo": {
     "elapsed": 292,
     "status": "ok",
     "timestamp": 1729615540534,
     "user": {
      "displayName": "Humberto Alves",
      "userId": "14666912073515018808"
     },
     "user_tz": 180
    },
    "id": "chnRmhInSsvw",
    "outputId": "7d3742fb-365f-4c22-bc1e-8508ded37917"
   },
   "outputs": [
    {
     "name": "stdout",
     "output_type": "stream",
     "text": [
      "time: 0 ns (started: 2024-11-15 17:23:58 -03:00)\n"
     ]
    }
   ],
   "source": [
    "errors = []\n",
    "iteration=1"
   ]
  },
  {
   "cell_type": "code",
   "execution_count": 49,
   "metadata": {
    "colab": {
     "base_uri": "https://localhost:8080/",
     "height": 612,
     "referenced_widgets": [
      "74e6f7fa52084dd5a4d96c4a7e273a6a",
      "e96a7e0f803144af979c2b3fc72a1967",
      "118307d91bf54679851dce48145deaed",
      "aff72ff9298b47f4a9d0683a9ef8935c",
      "86d96c871f884258b48a04395620f03f",
      "9aed4b9ff1884d2385acfd85076fd759",
      "d62ac051ac4b49bfac205a1b1460fdbe",
      "15397e6b81c34597a3cdbb56a25bb4be",
      "7ee0fba54baa4c5fb7e837abf463c5eb",
      "b592f2d6d3fb441983f08bc73de7d186",
      "fda3bfbdb0d14ceb91e8edb620f696c6"
     ]
    },
    "executionInfo": {
     "elapsed": 668,
     "status": "ok",
     "timestamp": 1729615556611,
     "user": {
      "displayName": "Humberto Alves",
      "userId": "14666912073515018808"
     },
     "user_tz": 180
    },
    "id": "hXBhioVtQn8r",
    "outputId": "3cf58f19-d9f7-4c16-f0fc-25506b26cc8e"
   },
   "outputs": [
    {
     "data": {
      "application/vnd.jupyter.widget-view+json": {
       "model_id": "8517ef3b0c4e49daa4906d674172073c",
       "version_major": 2,
       "version_minor": 0
      },
      "text/plain": [
       "  0%|          | 0/30 [00:00<?, ?it/s]"
      ]
     },
     "metadata": {},
     "output_type": "display_data"
    },
    {
     "name": "stdout",
     "output_type": "stream",
     "text": [
      "Error: 3.9188454893124155e-14\n"
     ]
    },
    {
     "data": {
      "image/png": "[encoded data removed]",
      "text/plain": [
       "<Figure size 1000x600 with 1 Axes>"
      ]
     },
     "metadata": {},
     "output_type": "display_data"
    },
    {
     "name": "stdout",
     "output_type": "stream",
     "text": [
      "time: 234 ms (started: 2024-11-15 17:24:14 -03:00)\n"
     ]
    }
   ],
   "source": [
    "######### Make next iterations - play this cell many times needed\n",
    "iteration+=1\n",
    "# shift point clouds to its centroid\n",
    "a_center = a_corrected.mean(axis=1).reshape((2,1))\n",
    "a_centered = a_corrected - a_center\n",
    "# compute correspondeces with nearest neighboor\n",
    "correspondences = nearest_neighbor(a_centered, b_centered)\n",
    "# compute cross covariance matrix\n",
    "H = np.zeros((2,2))\n",
    "for i, j,d  in correspondences:\n",
    "  a_point = a_centered[:, [i]]\n",
    "  b_point = b_centered[:, [j]]\n",
    "  H += b_point.dot(a_point.T)\n",
    "# SVD decomposition\n",
    "U, S, V_T = np.linalg.svd(H)\n",
    "R_found = U.dot(V_T)\n",
    "t_found = b_center - R_found.dot(a_center)\n",
    "# stack transformations\n",
    "R = R_found.dot(R)\n",
    "t = t+t_found\n",
    "# Apply correction\n",
    "# a_corrected = R_found.dot(a_corrected) + t_found\n",
    "# or\n",
    "a_corrected = R.dot(a) + t\n",
    "# get last erros\n",
    "error = np.linalg.norm(a_corrected - b)\n",
    "print(\"Error:\", error)\n",
    "errors.append(error)\n",
    "\n",
    "plot_data(a_corrected, b, label_1='a corrected', label_2='b',markersize_1=15,title=f\"{iteration}\")\n",
    "plt.show()"
   ]
  },
  {
   "cell_type": "code",
   "execution_count": 50,
   "metadata": {
    "colab": {
     "base_uri": "https://localhost:8080/"
    },
    "executionInfo": {
     "elapsed": 12,
     "status": "ok",
     "timestamp": 1729615184843,
     "user": {
      "displayName": "Humberto Alves",
      "userId": "14666912073515018808"
     },
     "user_tz": 180
    },
    "id": "6QBfDLbIx2Sd",
    "outputId": "d757b462-27b2-4bba-adb8-8df5217d0d87"
   },
   "outputs": [
    {
     "data": {
      "text/plain": [
       "(array([[ 0.70710678, -0.70710678],\n",
       "        [ 0.70710678,  0.70710678]]),\n",
       " array([[-2],\n",
       "        [ 5]]),\n",
       " array([[ 0.70710678,  0.70710678],\n",
       "        [-0.70710678,  0.70710678]]),\n",
       " array([[-2.12132034],\n",
       "        [-4.94974747]]))"
      ]
     },
     "execution_count": 50,
     "metadata": {},
     "output_type": "execute_result"
    },
    {
     "name": "stdout",
     "output_type": "stream",
     "text": [
      "time: 16 ms (started: 2024-11-15 17:24:17 -03:00)\n"
     ]
    }
   ],
   "source": [
    "R_true, t_true, R, t"
   ]
  },
  {
   "cell_type": "markdown",
   "metadata": {
    "id": "tmbwug-BMnjV"
   },
   "source": [
    "### Outlier injection on point cloud"
   ]
  },
  {
   "cell_type": "code",
   "execution_count": 39,
   "metadata": {
    "colab": {
     "base_uri": "https://localhost:8080/"
    },
    "executionInfo": {
     "elapsed": 306,
     "status": "ok",
     "timestamp": 1729615590276,
     "user": {
      "displayName": "Humberto Alves",
      "userId": "14666912073515018808"
     },
     "user_tz": 180
    },
    "id": "gYaeSCoLIBnY",
    "outputId": "ff331745-fec3-4f1e-e61a-ce95e816f988"
   },
   "outputs": [
    {
     "name": "stdout",
     "output_type": "stream",
     "text": [
      "a[10] and a[20] original values [ 6.42719153 10.7149441 ] [13.68085969 17.60341156]\n",
      "a[10] and a[20] outlierized values [-10.  30.] [ 0. 40.]\n",
      "time: 0 ns (started: 2024-11-15 17:23:58 -03:00)\n"
     ]
    }
   ],
   "source": [
    "# Outlier injection\n",
    "a_bad = moved_data.copy()\n",
    "b = true_data.copy()\n",
    "print(\"a[10] and a[20] original values\",a[:,10],a[:,20])\n",
    "a_bad[:, 10] = np.array([-10, 30])\n",
    "a_bad[:, 20] = np.array([0, 40])\n",
    "print(\"a[10] and a[20] outlierized values\",a_bad[:,10],a_bad[:,20])"
   ]
  },
  {
   "cell_type": "code",
   "execution_count": 40,
   "metadata": {
    "colab": {
     "base_uri": "https://localhost:8080/"
    },
    "executionInfo": {
     "elapsed": 257,
     "status": "ok",
     "timestamp": 1729615592787,
     "user": {
      "displayName": "Humberto Alves",
      "userId": "14666912073515018808"
     },
     "user_tz": 180
    },
    "id": "op9SvEM-JXDh",
    "outputId": "1da6e790-6d74-48fb-88bf-35121f9b1ace"
   },
   "outputs": [
    {
     "name": "stdout",
     "output_type": "stream",
     "text": [
      "Iteration 0 error: 112.11909435083369\n",
      "time: 0 ns (started: 2024-11-15 17:23:58 -03:00)\n"
     ]
    }
   ],
   "source": [
    "# initializations\n",
    "a_corrected = a_bad.copy()\n",
    "b_center = b.mean(axis=1).reshape((b.shape[0],1))\n",
    "b_centered = b - b_center\n",
    "\n",
    "R = np.eye(2)\n",
    "t = np.zeros((b.shape[0],1))\n",
    "iteration = 0\n",
    "error = np.linalg.norm(a_corrected - b)\n",
    "errors = []\n",
    "exclude_indices = [] # <<--- for removing outliers\n",
    "threshold = 1 # <<--- for removing outliers, can be adaptative\n",
    "print(f\"Iteration {iteration} error: {error}\")"
   ]
  },
  {
   "cell_type": "code",
   "execution_count": 41,
   "metadata": {
    "colab": {
     "base_uri": "https://localhost:8080/",
     "height": 629,
     "referenced_widgets": [
      "f581e7600e2c47da8cc85a6fb98f6b9e",
      "4051bf76d95945a7a5dac5315ca5fa68",
      "95c775cd74184ae382d1bf3e016d93c2",
      "902c4f5ff5344769be11df34e7c14026",
      "8f8aab45c3bd4e62a64fad5bbf6510d7",
      "156c1914a07f44e09be46bbd17fa1a5f",
      "7f815c2b71ed49c1b89c547f77952c46",
      "fb511bd739554f9186fa245dcc18b97c",
      "2210e42081f343c19a77105e7f93e7e0",
      "f1f4904a6f5842b2ac1f086c8c9feab7",
      "eaa83d741fcf4ec5aa5fc86af55cad29"
     ]
    },
    "executionInfo": {
     "elapsed": 773,
     "status": "ok",
     "timestamp": 1729615624477,
     "user": {
      "displayName": "Humberto Alves",
      "userId": "14666912073515018808"
     },
     "user_tz": 180
    },
    "id": "GJPAw01uJiWY",
    "outputId": "0261fe7b-7fed-4c01-b356-2eb0be8a63db"
   },
   "outputs": [
    {
     "data": {
      "application/vnd.jupyter.widget-view+json": {
       "model_id": "a689ae1be0e3495eb407fd2257834856",
       "version_major": 2,
       "version_minor": 0
      },
      "text/plain": [
       "  0%|          | 0/30 [00:00<?, ?it/s]"
      ]
     },
     "metadata": {},
     "output_type": "display_data"
    },
    {
     "name": "stdout",
     "output_type": "stream",
     "text": [
      "Iteration 1 error: 41.921093356811056\n",
      "Iteration 1 ||I-R||: 0.46648520398936305 ||t||: 13.55671049844146\n"
     ]
    },
    {
     "data": {
      "image/png": "[encoded data removed]",
      "text/plain": [
       "<Figure size 1000x600 with 1 Axes>"
      ]
     },
     "metadata": {},
     "output_type": "display_data"
    },
    {
     "name": "stdout",
     "output_type": "stream",
     "text": [
      "time: 235 ms (started: 2024-11-15 17:23:58 -03:00)\n"
     ]
    }
   ],
   "source": [
    "######### Make next iterations\n",
    "iteration+=1\n",
    "# shift point clouds to its centroid\n",
    "# reduced_data = np.delete(a_corrected, exclude_indices, axis=1)\n",
    "a_center = a_corrected.mean(axis=1).reshape((b.shape[0],1))\n",
    "a_centered = a_corrected - a_center\n",
    "# compute correspondeces with nearest neighboor\n",
    "correspondences = nearest_neighbor(a_centered, b_centered)\n",
    "# compute cross covariance matrix\n",
    "exclude_indices = []\n",
    "norms = [] # (A*)\n",
    "H = np.zeros((b.shape[0],b.shape[0]))\n",
    "for i, j, d in correspondences:\n",
    "  a_point = a_centered[:, [i]]\n",
    "  b_point = b_centered[:, [j]]\n",
    "  H += b_point.dot(a_point.T)\n",
    "# SVD decomposition\n",
    "U, S, V_T = np.linalg.svd(H)\n",
    "R_found = U.dot(V_T)\n",
    "t_found = b_center - R_found.dot(a_center)\n",
    "# stack transformations\n",
    "R = R_found.dot(R)\n",
    "t = t+t_found\n",
    "# Apply correction\n",
    "# a_corrected = R_found.dot(a_corrected) + t_found\n",
    "# or\n",
    "a_corrected = R.dot(a_bad) + t\n",
    "# get last erros\n",
    "error = np.linalg.norm(a_corrected - b)\n",
    "print(f\"Iteration {iteration} error: {error}\")\n",
    "print(f\"Iteration {iteration} ||I-R||: {np.linalg.norm(np.eye(2)-R_found)} ||t||: {np.linalg.norm(t_found)}\")\n",
    "errors.append(error)\n",
    "\n",
    "ax = plot_data(a_centered, b_centered, label_1='a corrected', label_2='b',markersize_1=15,title=f\"{iteration}\")\n",
    "draw_correspondeces(a_centered, b_centered, correspondences, ax)\n",
    "plt.show()\n"
   ]
  },
  {
   "cell_type": "markdown",
   "metadata": {
    "id": "-Sr-RjG0c9LP"
   },
   "source": [
    "### Solution - weight and remove bad correspondences"
   ]
  },
  {
   "cell_type": "code",
   "execution_count": 42,
   "metadata": {
    "colab": {
     "base_uri": "https://localhost:8080/"
    },
    "executionInfo": {
     "elapsed": 317,
     "status": "ok",
     "timestamp": 1729615644066,
     "user": {
      "displayName": "Humberto Alves",
      "userId": "14666912073515018808"
     },
     "user_tz": 180
    },
    "id": "mRX7slALNDDF",
    "outputId": "d8764188-7790-4aa9-c995-daabb6db1251"
   },
   "outputs": [
    {
     "name": "stdout",
     "output_type": "stream",
     "text": [
      "Iteration 0 error: 51.76451406494949\n",
      "time: 0 ns (started: 2024-11-15 17:23:58 -03:00)\n"
     ]
    }
   ],
   "source": [
    "# initializations\n",
    "a_corrected = a_bad.copy()\n",
    "a_center = a_corrected.mean(axis=1).reshape((b.shape[0],1))\n",
    "a_centered = a_corrected - a_center\n",
    "b_center = b.mean(axis=1).reshape((b.shape[0],1))\n",
    "b_centered = b - b_center\n",
    "\n",
    "R = np.eye(2)\n",
    "t = np.zeros((b.shape[0],1))\n",
    "iteration = 0\n",
    "error = np.linalg.norm(a_centered - b_centered)\n",
    "errors = []\n",
    "errors2 = []\n",
    "exclude_a_indices = []\n",
    "threshold = 0.1 # <<--- for removing outliers, can be adaptative\n",
    "print(f\"Iteration {iteration} error: {error}\")"
   ]
  },
  {
   "cell_type": "code",
   "execution_count": 43,
   "metadata": {
    "colab": {
     "base_uri": "https://localhost:8080/",
     "height": 646,
     "referenced_widgets": [
      "d45a644729e64ff689ba70f2ae3031fe",
      "3c603b70c52a4f0bbb0fffb8102a6363",
      "e5d3ff3e845f48159e823e7e80888530",
      "f5952a02f15e4b7da530e73a2693bab5",
      "3cc27a1a96e7464d8b0be267c5bbd8bf",
      "99f027df13984046a62fdcc528ac2ab4",
      "38aedf21b98f49bdb07c4653ea7ce24b",
      "78f9b15e4ed14d5fa80b10456fba1487",
      "958d65423cad43b59d6cefbba4ae2952",
      "dbc51ab840a64c2c86c588d7de3293c5",
      "6411298b50ba45b0992e1ab1a0365cc9"
     ]
    },
    "executionInfo": {
     "elapsed": 913,
     "status": "ok",
     "timestamp": 1729615688261,
     "user": {
      "displayName": "Humberto Alves",
      "userId": "14666912073515018808"
     },
     "user_tz": 180
    },
    "id": "Hi4GtR9vNKbv",
    "outputId": "b9b3bd22-3420-435d-c01f-5829cefcfa89"
   },
   "outputs": [
    {
     "data": {
      "application/vnd.jupyter.widget-view+json": {
       "model_id": "5f11b4bd4239447db2e24e97abd570b5",
       "version_major": 2,
       "version_minor": 0
      },
      "text/plain": [
       "  0%|          | 0/30 [00:00<?, ?it/s]"
      ]
     },
     "metadata": {},
     "output_type": "display_data"
    },
    {
     "name": "stdout",
     "output_type": "stream",
     "text": [
      "[0, 10, 20]\n",
      "Iteration 1 ||a_centered - b_centered||: 51.76451406494949\n",
      "Iteration 1 ||I-R||: 0.3686327100069349 ||t||: 14.553897977955172 sum: 14.922530687962107\n"
     ]
    },
    {
     "data": {
      "image/png": "[encoded data removed]",
      "text/plain": [
       "<Figure size 1000x600 with 1 Axes>"
      ]
     },
     "metadata": {},
     "output_type": "display_data"
    },
    {
     "name": "stdout",
     "output_type": "stream",
     "text": [
      "time: 234 ms (started: 2024-11-15 17:23:58 -03:00)\n"
     ]
    }
   ],
   "source": [
    "######### Make next iterations\n",
    "iteration+=1\n",
    "# shift point clouds to its centroid\n",
    "reduced_a = np.delete(a_corrected, exclude_a_indices, axis=1)\n",
    "a_center = reduced_a.mean(axis=1).reshape((b.shape[0],1))\n",
    "a_centered = a_corrected - a_center\n",
    "# compute correspondeces with nearest neighboor\n",
    "correspondences = nearest_neighbor(a_centered, b_centered)\n",
    "# compute cross covariance matrix\n",
    "exclude_a_indices = []          # <<<<------------- for removing outliers\n",
    "exclude_b_indices = []\n",
    "H = np.zeros((b.shape[0],b.shape[0]))\n",
    "for k, (i, j, d) in enumerate(correspondences):\n",
    "  a_point = a_centered[:, [i]]\n",
    "  b_point = b_centered[:, [j]]\n",
    "  weight =  1/d                 # <<<<------------- for removing outliers\n",
    "  if weight < threshold:        # <<<<------------- for removing outliers\n",
    "    weight = 0                  # <<<<------------- for removing outliers\n",
    "    exclude_a_indices.append(i) # <<<<------------- for removing outliers\n",
    "    exclude_b_indices.append(j)\n",
    "  H += weight * b_point.dot(a_point.T)\n",
    "print(exclude_a_indices)\n",
    "# SVD decomposition\n",
    "U, S, V_T = np.linalg.svd(H)\n",
    "R_found = U.dot(V_T)\n",
    "t_found = b_center - R_found.dot(a_center)\n",
    "# stack transformations\n",
    "R = R_found.dot(R)\n",
    "t = t+t_found\n",
    "# Apply correction\n",
    "a_corrected = R_found.dot(a_corrected) + t_found\n",
    "# or\n",
    "# a_corrected = R.dot(a) + t\n",
    "# get last erros\n",
    "error = np.linalg.norm(a_centered - b_centered)\n",
    "print(f\"Iteration {iteration} ||a_centered - b_centered||: {error}\")\n",
    "errors.append(error)\n",
    "\n",
    "I_R_norm = np.linalg.norm(np.eye(b.shape[0])-R_found)\n",
    "t_norm = np.linalg.norm(t_found)\n",
    "error = I_R_norm + t_norm\n",
    "print(f\"Iteration {iteration} ||I-R||: {I_R_norm} ||t||: {t_norm} sum: {error}\")\n",
    "errors2.append(error)\n",
    "\n",
    "ax = plot_data(a_centered, b_centered, label_1='a corrected', label_2='b',markersize_1=15,title=f\"{iteration}\")\n",
    "draw_correspondeces(a_centered, b_centered, correspondences, ax)\n",
    "plt.show()"
   ]
  },
  {
   "cell_type": "code",
   "execution_count": 44,
   "metadata": {
    "colab": {
     "base_uri": "https://localhost:8080/",
     "height": 447
    },
    "executionInfo": {
     "elapsed": 351,
     "status": "ok",
     "timestamp": 1729615701529,
     "user": {
      "displayName": "Humberto Alves",
      "userId": "14666912073515018808"
     },
     "user_tz": 180
    },
    "id": "RlNPnF_ybjCZ",
    "outputId": "248bbf72-9f3b-410e-a984-3113368faa35"
   },
   "outputs": [
    {
     "data": {
      "image/png": "[encoded data removed]",
      "text/plain": [
       "<Figure size 640x480 with 1 Axes>"
      ]
     },
     "metadata": {},
     "output_type": "display_data"
    },
    {
     "name": "stdout",
     "output_type": "stream",
     "text": [
      "time: 156 ms (started: 2024-11-15 17:23:59 -03:00)\n"
     ]
    }
   ],
   "source": [
    "plt.plot(errors, label=\"|| a - b ||\")\n",
    "plt.plot(errors2, label=\"|| I-R || + ||t||\")\n",
    "plt.legend()\n",
    "plt.grid(True)\n",
    "plt.show()"
   ]
  }
 ],
 "metadata": {
  "colab": {
   "gpuType": "T4",
   "provenance": []
  },
  "kernelspec": {
   "display_name": "base",
   "language": "python",
   "name": "python3"
  },
  "language_info": {
   "codemirror_mode": {
    "name": "ipython",
    "version": 3
   },
   "file_extension": ".py",
   "mimetype": "text/x-python",
   "name": "python",
   "nbconvert_exporter": "python",
   "pygments_lexer": "ipython3",
   "version": "3.11.7"
  },
  "widgets": {
   "application/vnd.jupyter.widget-state+json": {
    "04ca2352af3545a3bab4ad13b7fa2a57": {
     "model_module": "@jupyter-widgets/controls",
     "model_module_version": "1.5.0",
     "model_name": "DescriptionStyleModel",
     "state": {
      "_model_module": "@jupyter-widgets/controls",
      "_model_module_version": "1.5.0",
      "_model_name": "DescriptionStyleModel",
      "_view_count": null,
      "_view_module": "@jupyter-widgets/base",
      "_view_module_version": "1.2.0",
      "_view_name": "StyleView",
      "description_width": ""
     }
    },
    "061bf429d8a64948882036d03859bd32": {
     "model_module": "@jupyter-widgets/controls",
     "model_module_version": "1.5.0",
     "model_name": "ProgressStyleModel",
     "state": {
      "_model_module": "@jupyter-widgets/controls",
      "_model_module_version": "1.5.0",
      "_model_name": "ProgressStyleModel",
      "_view_count": null,
      "_view_module": "@jupyter-widgets/base",
      "_view_module_version": "1.2.0",
      "_view_name": "StyleView",
      "bar_color": null,
      "description_width": ""
     }
    },
    "0805cf7f9f4140189413a225a4542289": {
     "model_module": "@jupyter-widgets/controls",
     "model_module_version": "1.5.0",
     "model_name": "HTMLModel",
     "state": {
      "_dom_classes": [],
      "_model_module": "@jupyter-widgets/controls",
      "_model_module_version": "1.5.0",
      "_model_name": "HTMLModel",
      "_view_count": null,
      "_view_module": "@jupyter-widgets/controls",
      "_view_module_version": "1.5.0",
      "_view_name": "HTMLView",
      "description": "",
      "description_tooltip": null,
      "layout": "IPY_MODEL_26aea210a660458b8f29279f59070383",
      "placeholder": "​",
      "style": "IPY_MODEL_04ca2352af3545a3bab4ad13b7fa2a57",
      "value": "100%"
     }
    },
    "0cb84fcd40b848a2b18e83d422f5e848": {
     "model_module": "@jupyter-widgets/base",
     "model_module_version": "1.2.0",
     "model_name": "LayoutModel",
     "state": {
      "_model_module": "@jupyter-widgets/base",
      "_model_module_version": "1.2.0",
      "_model_name": "LayoutModel",
      "_view_count": null,
      "_view_module": "@jupyter-widgets/base",
      "_view_module_version": "1.2.0",
      "_view_name": "LayoutView",
      "align_content": null,
      "align_items": null,
      "align_self": null,
      "border": null,
      "bottom": null,
      "display": null,
      "flex": null,
      "flex_flow": null,
      "grid_area": null,
      "grid_auto_columns": null,
      "grid_auto_flow": null,
      "grid_auto_rows": null,
      "grid_column": null,
      "grid_gap": null,
      "grid_row": null,
      "grid_template_areas": null,
      "grid_template_columns": null,
      "grid_template_rows": null,
      "height": null,
      "justify_content": null,
      "justify_items": null,
      "left": null,
      "margin": null,
      "max_height": null,
      "max_width": null,
      "min_height": null,
      "min_width": null,
      "object_fit": null,
      "object_position": null,
      "order": null,
      "overflow": null,
      "overflow_x": null,
      "overflow_y": null,
      "padding": null,
      "right": null,
      "top": null,
      "visibility": null,
      "width": null
     }
    },
    "118307d91bf54679851dce48145deaed": {
     "model_module": "@jupyter-widgets/controls",
     "model_module_version": "1.5.0",
     "model_name": "FloatProgressModel",
     "state": {
      "_dom_classes": [],
      "_model_module": "@jupyter-widgets/controls",
      "_model_module_version": "1.5.0",
      "_model_name": "FloatProgressModel",
      "_view_count": null,
      "_view_module": "@jupyter-widgets/controls",
      "_view_module_version": "1.5.0",
      "_view_name": "ProgressView",
      "bar_style": "success",
      "description": "",
      "description_tooltip": null,
      "layout": "IPY_MODEL_15397e6b81c34597a3cdbb56a25bb4be",
      "max": 30,
      "min": 0,
      "orientation": "horizontal",
      "style": "IPY_MODEL_7ee0fba54baa4c5fb7e837abf463c5eb",
      "value": 30
     }
    },
    "15397e6b81c34597a3cdbb56a25bb4be": {
     "model_module": "@jupyter-widgets/base",
     "model_module_version": "1.2.0",
     "model_name": "LayoutModel",
     "state": {
      "_model_module": "@jupyter-widgets/base",
      "_model_module_version": "1.2.0",
      "_model_name": "LayoutModel",
      "_view_count": null,
      "_view_module": "@jupyter-widgets/base",
      "_view_module_version": "1.2.0",
      "_view_name": "LayoutView",
      "align_content": null,
      "align_items": null,
      "align_self": null,
      "border": null,
      "bottom": null,
      "display": null,
      "flex": null,
      "flex_flow": null,
      "grid_area": null,
      "grid_auto_columns": null,
      "grid_auto_flow": null,
      "grid_auto_rows": null,
      "grid_column": null,
      "grid_gap": null,
      "grid_row": null,
      "grid_template_areas": null,
      "grid_template_columns": null,
      "grid_template_rows": null,
      "height": null,
      "justify_content": null,
      "justify_items": null,
      "left": null,
      "margin": null,
      "max_height": null,
      "max_width": null,
      "min_height": null,
      "min_width": null,
      "object_fit": null,
      "object_position": null,
      "order": null,
      "overflow": null,
      "overflow_x": null,
      "overflow_y": null,
      "padding": null,
      "right": null,
      "top": null,
      "visibility": null,
      "width": null
     }
    },
    "156c1914a07f44e09be46bbd17fa1a5f": {
     "model_module": "@jupyter-widgets/base",
     "model_module_version": "1.2.0",
     "model_name": "LayoutModel",
     "state": {
      "_model_module": "@jupyter-widgets/base",
      "_model_module_version": "1.2.0",
      "_model_name": "LayoutModel",
      "_view_count": null,
      "_view_module": "@jupyter-widgets/base",
      "_view_module_version": "1.2.0",
      "_view_name": "LayoutView",
      "align_content": null,
      "align_items": null,
      "align_self": null,
      "border": null,
      "bottom": null,
      "display": null,
      "flex": null,
      "flex_flow": null,
      "grid_area": null,
      "grid_auto_columns": null,
      "grid_auto_flow": null,
      "grid_auto_rows": null,
      "grid_column": null,
      "grid_gap": null,
      "grid_row": null,
      "grid_template_areas": null,
      "grid_template_columns": null,
      "grid_template_rows": null,
      "height": null,
      "justify_content": null,
      "justify_items": null,
      "left": null,
      "margin": null,
      "max_height": null,
      "max_width": null,
      "min_height": null,
      "min_width": null,
      "object_fit": null,
      "object_position": null,
      "order": null,
      "overflow": null,
      "overflow_x": null,
      "overflow_y": null,
      "padding": null,
      "right": null,
      "top": null,
      "visibility": null,
      "width": null
     }
    },
    "193817a2f6b746748fcdf6ebe260e55c": {
     "model_module": "@jupyter-widgets/controls",
     "model_module_version": "1.5.0",
     "model_name": "DescriptionStyleModel",
     "state": {
      "_model_module": "@jupyter-widgets/controls",
      "_model_module_version": "1.5.0",
      "_model_name": "DescriptionStyleModel",
      "_view_count": null,
      "_view_module": "@jupyter-widgets/base",
      "_view_module_version": "1.2.0",
      "_view_name": "StyleView",
      "description_width": ""
     }
    },
    "195fb441d62742d0b652fb9f602a9861": {
     "model_module": "@jupyter-widgets/base",
     "model_module_version": "1.2.0",
     "model_name": "LayoutModel",
     "state": {
      "_model_module": "@jupyter-widgets/base",
      "_model_module_version": "1.2.0",
      "_model_name": "LayoutModel",
      "_view_count": null,
      "_view_module": "@jupyter-widgets/base",
      "_view_module_version": "1.2.0",
      "_view_name": "LayoutView",
      "align_content": null,
      "align_items": null,
      "align_self": null,
      "border": null,
      "bottom": null,
      "display": null,
      "flex": null,
      "flex_flow": null,
      "grid_area": null,
      "grid_auto_columns": null,
      "grid_auto_flow": null,
      "grid_auto_rows": null,
      "grid_column": null,
      "grid_gap": null,
      "grid_row": null,
      "grid_template_areas": null,
      "grid_template_columns": null,
      "grid_template_rows": null,
      "height": null,
      "justify_content": null,
      "justify_items": null,
      "left": null,
      "margin": null,
      "max_height": null,
      "max_width": null,
      "min_height": null,
      "min_width": null,
      "object_fit": null,
      "object_position": null,
      "order": null,
      "overflow": null,
      "overflow_x": null,
      "overflow_y": null,
      "padding": null,
      "right": null,
      "top": null,
      "visibility": null,
      "width": null
     }
    },
    "2210e42081f343c19a77105e7f93e7e0": {
     "model_module": "@jupyter-widgets/controls",
     "model_module_version": "1.5.0",
     "model_name": "ProgressStyleModel",
     "state": {
      "_model_module": "@jupyter-widgets/controls",
      "_model_module_version": "1.5.0",
      "_model_name": "ProgressStyleModel",
      "_view_count": null,
      "_view_module": "@jupyter-widgets/base",
      "_view_module_version": "1.2.0",
      "_view_name": "StyleView",
      "bar_color": null,
      "description_width": ""
     }
    },
    "26aea210a660458b8f29279f59070383": {
     "model_module": "@jupyter-widgets/base",
     "model_module_version": "1.2.0",
     "model_name": "LayoutModel",
     "state": {
      "_model_module": "@jupyter-widgets/base",
      "_model_module_version": "1.2.0",
      "_model_name": "LayoutModel",
      "_view_count": null,
      "_view_module": "@jupyter-widgets/base",
      "_view_module_version": "1.2.0",
      "_view_name": "LayoutView",
      "align_content": null,
      "align_items": null,
      "align_self": null,
      "border": null,
      "bottom": null,
      "display": null,
      "flex": null,
      "flex_flow": null,
      "grid_area": null,
      "grid_auto_columns": null,
      "grid_auto_flow": null,
      "grid_auto_rows": null,
      "grid_column": null,
      "grid_gap": null,
      "grid_row": null,
      "grid_template_areas": null,
      "grid_template_columns": null,
      "grid_template_rows": null,
      "height": null,
      "justify_content": null,
      "justify_items": null,
      "left": null,
      "margin": null,
      "max_height": null,
      "max_width": null,
      "min_height": null,
      "min_width": null,
      "object_fit": null,
      "object_position": null,
      "order": null,
      "overflow": null,
      "overflow_x": null,
      "overflow_y": null,
      "padding": null,
      "right": null,
      "top": null,
      "visibility": null,
      "width": null
     }
    },
    "38aedf21b98f49bdb07c4653ea7ce24b": {
     "model_module": "@jupyter-widgets/controls",
     "model_module_version": "1.5.0",
     "model_name": "DescriptionStyleModel",
     "state": {
      "_model_module": "@jupyter-widgets/controls",
      "_model_module_version": "1.5.0",
      "_model_name": "DescriptionStyleModel",
      "_view_count": null,
      "_view_module": "@jupyter-widgets/base",
      "_view_module_version": "1.2.0",
      "_view_name": "StyleView",
      "description_width": ""
     }
    },
    "3c603b70c52a4f0bbb0fffb8102a6363": {
     "model_module": "@jupyter-widgets/controls",
     "model_module_version": "1.5.0",
     "model_name": "HTMLModel",
     "state": {
      "_dom_classes": [],
      "_model_module": "@jupyter-widgets/controls",
      "_model_module_version": "1.5.0",
      "_model_name": "HTMLModel",
      "_view_count": null,
      "_view_module": "@jupyter-widgets/controls",
      "_view_module_version": "1.5.0",
      "_view_name": "HTMLView",
      "description": "",
      "description_tooltip": null,
      "layout": "IPY_MODEL_99f027df13984046a62fdcc528ac2ab4",
      "placeholder": "​",
      "style": "IPY_MODEL_38aedf21b98f49bdb07c4653ea7ce24b",
      "value": "100%"
     }
    },
    "3cc27a1a96e7464d8b0be267c5bbd8bf": {
     "model_module": "@jupyter-widgets/base",
     "model_module_version": "1.2.0",
     "model_name": "LayoutModel",
     "state": {
      "_model_module": "@jupyter-widgets/base",
      "_model_module_version": "1.2.0",
      "_model_name": "LayoutModel",
      "_view_count": null,
      "_view_module": "@jupyter-widgets/base",
      "_view_module_version": "1.2.0",
      "_view_name": "LayoutView",
      "align_content": null,
      "align_items": null,
      "align_self": null,
      "border": null,
      "bottom": null,
      "display": null,
      "flex": null,
      "flex_flow": null,
      "grid_area": null,
      "grid_auto_columns": null,
      "grid_auto_flow": null,
      "grid_auto_rows": null,
      "grid_column": null,
      "grid_gap": null,
      "grid_row": null,
      "grid_template_areas": null,
      "grid_template_columns": null,
      "grid_template_rows": null,
      "height": null,
      "justify_content": null,
      "justify_items": null,
      "left": null,
      "margin": null,
      "max_height": null,
      "max_width": null,
      "min_height": null,
      "min_width": null,
      "object_fit": null,
      "object_position": null,
      "order": null,
      "overflow": null,
      "overflow_x": null,
      "overflow_y": null,
      "padding": null,
      "right": null,
      "top": null,
      "visibility": null,
      "width": null
     }
    },
    "4051bf76d95945a7a5dac5315ca5fa68": {
     "model_module": "@jupyter-widgets/controls",
     "model_module_version": "1.5.0",
     "model_name": "HTMLModel",
     "state": {
      "_dom_classes": [],
      "_model_module": "@jupyter-widgets/controls",
      "_model_module_version": "1.5.0",
      "_model_name": "HTMLModel",
      "_view_count": null,
      "_view_module": "@jupyter-widgets/controls",
      "_view_module_version": "1.5.0",
      "_view_name": "HTMLView",
      "description": "",
      "description_tooltip": null,
      "layout": "IPY_MODEL_156c1914a07f44e09be46bbd17fa1a5f",
      "placeholder": "​",
      "style": "IPY_MODEL_7f815c2b71ed49c1b89c547f77952c46",
      "value": "100%"
     }
    },
    "576594e15f374830b1737e5e2438710b": {
     "model_module": "@jupyter-widgets/base",
     "model_module_version": "1.2.0",
     "model_name": "LayoutModel",
     "state": {
      "_model_module": "@jupyter-widgets/base",
      "_model_module_version": "1.2.0",
      "_model_name": "LayoutModel",
      "_view_count": null,
      "_view_module": "@jupyter-widgets/base",
      "_view_module_version": "1.2.0",
      "_view_name": "LayoutView",
      "align_content": null,
      "align_items": null,
      "align_self": null,
      "border": null,
      "bottom": null,
      "display": null,
      "flex": null,
      "flex_flow": null,
      "grid_area": null,
      "grid_auto_columns": null,
      "grid_auto_flow": null,
      "grid_auto_rows": null,
      "grid_column": null,
      "grid_gap": null,
      "grid_row": null,
      "grid_template_areas": null,
      "grid_template_columns": null,
      "grid_template_rows": null,
      "height": null,
      "justify_content": null,
      "justify_items": null,
      "left": null,
      "margin": null,
      "max_height": null,
      "max_width": null,
      "min_height": null,
      "min_width": null,
      "object_fit": null,
      "object_position": null,
      "order": null,
      "overflow": null,
      "overflow_x": null,
      "overflow_y": null,
      "padding": null,
      "right": null,
      "top": null,
      "visibility": null,
      "width": null
     }
    },
    "6411298b50ba45b0992e1ab1a0365cc9": {
     "model_module": "@jupyter-widgets/controls",
     "model_module_version": "1.5.0",
     "model_name": "DescriptionStyleModel",
     "state": {
      "_model_module": "@jupyter-widgets/controls",
      "_model_module_version": "1.5.0",
      "_model_name": "DescriptionStyleModel",
      "_view_count": null,
      "_view_module": "@jupyter-widgets/base",
      "_view_module_version": "1.2.0",
      "_view_name": "StyleView",
      "description_width": ""
     }
    },
    "74e6f7fa52084dd5a4d96c4a7e273a6a": {
     "model_module": "@jupyter-widgets/controls",
     "model_module_version": "1.5.0",
     "model_name": "HBoxModel",
     "state": {
      "_dom_classes": [],
      "_model_module": "@jupyter-widgets/controls",
      "_model_module_version": "1.5.0",
      "_model_name": "HBoxModel",
      "_view_count": null,
      "_view_module": "@jupyter-widgets/controls",
      "_view_module_version": "1.5.0",
      "_view_name": "HBoxView",
      "box_style": "",
      "children": [
       "IPY_MODEL_e96a7e0f803144af979c2b3fc72a1967",
       "IPY_MODEL_118307d91bf54679851dce48145deaed",
       "IPY_MODEL_aff72ff9298b47f4a9d0683a9ef8935c"
      ],
      "layout": "IPY_MODEL_86d96c871f884258b48a04395620f03f"
     }
    },
    "78f9b15e4ed14d5fa80b10456fba1487": {
     "model_module": "@jupyter-widgets/base",
     "model_module_version": "1.2.0",
     "model_name": "LayoutModel",
     "state": {
      "_model_module": "@jupyter-widgets/base",
      "_model_module_version": "1.2.0",
      "_model_name": "LayoutModel",
      "_view_count": null,
      "_view_module": "@jupyter-widgets/base",
      "_view_module_version": "1.2.0",
      "_view_name": "LayoutView",
      "align_content": null,
      "align_items": null,
      "align_self": null,
      "border": null,
      "bottom": null,
      "display": null,
      "flex": null,
      "flex_flow": null,
      "grid_area": null,
      "grid_auto_columns": null,
      "grid_auto_flow": null,
      "grid_auto_rows": null,
      "grid_column": null,
      "grid_gap": null,
      "grid_row": null,
      "grid_template_areas": null,
      "grid_template_columns": null,
      "grid_template_rows": null,
      "height": null,
      "justify_content": null,
      "justify_items": null,
      "left": null,
      "margin": null,
      "max_height": null,
      "max_width": null,
      "min_height": null,
      "min_width": null,
      "object_fit": null,
      "object_position": null,
      "order": null,
      "overflow": null,
      "overflow_x": null,
      "overflow_y": null,
      "padding": null,
      "right": null,
      "top": null,
      "visibility": null,
      "width": null
     }
    },
    "7b611c64bc1740aeba880ce626b314f8": {
     "model_module": "@jupyter-widgets/controls",
     "model_module_version": "1.5.0",
     "model_name": "DescriptionStyleModel",
     "state": {
      "_model_module": "@jupyter-widgets/controls",
      "_model_module_version": "1.5.0",
      "_model_name": "DescriptionStyleModel",
      "_view_count": null,
      "_view_module": "@jupyter-widgets/base",
      "_view_module_version": "1.2.0",
      "_view_name": "StyleView",
      "description_width": ""
     }
    },
    "7ee0fba54baa4c5fb7e837abf463c5eb": {
     "model_module": "@jupyter-widgets/controls",
     "model_module_version": "1.5.0",
     "model_name": "ProgressStyleModel",
     "state": {
      "_model_module": "@jupyter-widgets/controls",
      "_model_module_version": "1.5.0",
      "_model_name": "ProgressStyleModel",
      "_view_count": null,
      "_view_module": "@jupyter-widgets/base",
      "_view_module_version": "1.2.0",
      "_view_name": "StyleView",
      "bar_color": null,
      "description_width": ""
     }
    },
    "7f815c2b71ed49c1b89c547f77952c46": {
     "model_module": "@jupyter-widgets/controls",
     "model_module_version": "1.5.0",
     "model_name": "DescriptionStyleModel",
     "state": {
      "_model_module": "@jupyter-widgets/controls",
      "_model_module_version": "1.5.0",
      "_model_name": "DescriptionStyleModel",
      "_view_count": null,
      "_view_module": "@jupyter-widgets/base",
      "_view_module_version": "1.2.0",
      "_view_name": "StyleView",
      "description_width": ""
     }
    },
    "818dcc23ef1b4a80b4d880e1d4732c01": {
     "model_module": "@jupyter-widgets/controls",
     "model_module_version": "1.5.0",
     "model_name": "DescriptionStyleModel",
     "state": {
      "_model_module": "@jupyter-widgets/controls",
      "_model_module_version": "1.5.0",
      "_model_name": "DescriptionStyleModel",
      "_view_count": null,
      "_view_module": "@jupyter-widgets/base",
      "_view_module_version": "1.2.0",
      "_view_name": "StyleView",
      "description_width": ""
     }
    },
    "86d96c871f884258b48a04395620f03f": {
     "model_module": "@jupyter-widgets/base",
     "model_module_version": "1.2.0",
     "model_name": "LayoutModel",
     "state": {
      "_model_module": "@jupyter-widgets/base",
      "_model_module_version": "1.2.0",
      "_model_name": "LayoutModel",
      "_view_count": null,
      "_view_module": "@jupyter-widgets/base",
      "_view_module_version": "1.2.0",
      "_view_name": "LayoutView",
      "align_content": null,
      "align_items": null,
      "align_self": null,
      "border": null,
      "bottom": null,
      "display": null,
      "flex": null,
      "flex_flow": null,
      "grid_area": null,
      "grid_auto_columns": null,
      "grid_auto_flow": null,
      "grid_auto_rows": null,
      "grid_column": null,
      "grid_gap": null,
      "grid_row": null,
      "grid_template_areas": null,
      "grid_template_columns": null,
      "grid_template_rows": null,
      "height": null,
      "justify_content": null,
      "justify_items": null,
      "left": null,
      "margin": null,
      "max_height": null,
      "max_width": null,
      "min_height": null,
      "min_width": null,
      "object_fit": null,
      "object_position": null,
      "order": null,
      "overflow": null,
      "overflow_x": null,
      "overflow_y": null,
      "padding": null,
      "right": null,
      "top": null,
      "visibility": null,
      "width": null
     }
    },
    "8f8aab45c3bd4e62a64fad5bbf6510d7": {
     "model_module": "@jupyter-widgets/base",
     "model_module_version": "1.2.0",
     "model_name": "LayoutModel",
     "state": {
      "_model_module": "@jupyter-widgets/base",
      "_model_module_version": "1.2.0",
      "_model_name": "LayoutModel",
      "_view_count": null,
      "_view_module": "@jupyter-widgets/base",
      "_view_module_version": "1.2.0",
      "_view_name": "LayoutView",
      "align_content": null,
      "align_items": null,
      "align_self": null,
      "border": null,
      "bottom": null,
      "display": null,
      "flex": null,
      "flex_flow": null,
      "grid_area": null,
      "grid_auto_columns": null,
      "grid_auto_flow": null,
      "grid_auto_rows": null,
      "grid_column": null,
      "grid_gap": null,
      "grid_row": null,
      "grid_template_areas": null,
      "grid_template_columns": null,
      "grid_template_rows": null,
      "height": null,
      "justify_content": null,
      "justify_items": null,
      "left": null,
      "margin": null,
      "max_height": null,
      "max_width": null,
      "min_height": null,
      "min_width": null,
      "object_fit": null,
      "object_position": null,
      "order": null,
      "overflow": null,
      "overflow_x": null,
      "overflow_y": null,
      "padding": null,
      "right": null,
      "top": null,
      "visibility": null,
      "width": null
     }
    },
    "902c4f5ff5344769be11df34e7c14026": {
     "model_module": "@jupyter-widgets/controls",
     "model_module_version": "1.5.0",
     "model_name": "HTMLModel",
     "state": {
      "_dom_classes": [],
      "_model_module": "@jupyter-widgets/controls",
      "_model_module_version": "1.5.0",
      "_model_name": "HTMLModel",
      "_view_count": null,
      "_view_module": "@jupyter-widgets/controls",
      "_view_module_version": "1.5.0",
      "_view_name": "HTMLView",
      "description": "",
      "description_tooltip": null,
      "layout": "IPY_MODEL_f1f4904a6f5842b2ac1f086c8c9feab7",
      "placeholder": "​",
      "style": "IPY_MODEL_eaa83d741fcf4ec5aa5fc86af55cad29",
      "value": " 30/30 [00:00&lt;00:00, 1230.84it/s]"
     }
    },
    "958d65423cad43b59d6cefbba4ae2952": {
     "model_module": "@jupyter-widgets/controls",
     "model_module_version": "1.5.0",
     "model_name": "ProgressStyleModel",
     "state": {
      "_model_module": "@jupyter-widgets/controls",
      "_model_module_version": "1.5.0",
      "_model_name": "ProgressStyleModel",
      "_view_count": null,
      "_view_module": "@jupyter-widgets/base",
      "_view_module_version": "1.2.0",
      "_view_name": "StyleView",
      "bar_color": null,
      "description_width": ""
     }
    },
    "95c775cd74184ae382d1bf3e016d93c2": {
     "model_module": "@jupyter-widgets/controls",
     "model_module_version": "1.5.0",
     "model_name": "FloatProgressModel",
     "state": {
      "_dom_classes": [],
      "_model_module": "@jupyter-widgets/controls",
      "_model_module_version": "1.5.0",
      "_model_name": "FloatProgressModel",
      "_view_count": null,
      "_view_module": "@jupyter-widgets/controls",
      "_view_module_version": "1.5.0",
      "_view_name": "ProgressView",
      "bar_style": "success",
      "description": "",
      "description_tooltip": null,
      "layout": "IPY_MODEL_fb511bd739554f9186fa245dcc18b97c",
      "max": 30,
      "min": 0,
      "orientation": "horizontal",
      "style": "IPY_MODEL_2210e42081f343c19a77105e7f93e7e0",
      "value": 30
     }
    },
    "96685e2f3f9745fd97c77899de203180": {
     "model_module": "@jupyter-widgets/controls",
     "model_module_version": "1.5.0",
     "model_name": "HTMLModel",
     "state": {
      "_dom_classes": [],
      "_model_module": "@jupyter-widgets/controls",
      "_model_module_version": "1.5.0",
      "_model_name": "HTMLModel",
      "_view_count": null,
      "_view_module": "@jupyter-widgets/controls",
      "_view_module_version": "1.5.0",
      "_view_name": "HTMLView",
      "description": "",
      "description_tooltip": null,
      "layout": "IPY_MODEL_c6ce4d6bbddf4a439e45431d3f3bb5e4",
      "placeholder": "​",
      "style": "IPY_MODEL_7b611c64bc1740aeba880ce626b314f8",
      "value": " 30/30 [00:00&lt;00:00, 820.49it/s]"
     }
    },
    "9845518d22674026be1a85e3e91d1ba4": {
     "model_module": "@jupyter-widgets/controls",
     "model_module_version": "1.5.0",
     "model_name": "HBoxModel",
     "state": {
      "_dom_classes": [],
      "_model_module": "@jupyter-widgets/controls",
      "_model_module_version": "1.5.0",
      "_model_name": "HBoxModel",
      "_view_count": null,
      "_view_module": "@jupyter-widgets/controls",
      "_view_module_version": "1.5.0",
      "_view_name": "HBoxView",
      "box_style": "",
      "children": [
       "IPY_MODEL_0805cf7f9f4140189413a225a4542289",
       "IPY_MODEL_ad86f61c98c74cc7b58387c0cd056240",
       "IPY_MODEL_96685e2f3f9745fd97c77899de203180"
      ],
      "layout": "IPY_MODEL_195fb441d62742d0b652fb9f602a9861"
     }
    },
    "99f027df13984046a62fdcc528ac2ab4": {
     "model_module": "@jupyter-widgets/base",
     "model_module_version": "1.2.0",
     "model_name": "LayoutModel",
     "state": {
      "_model_module": "@jupyter-widgets/base",
      "_model_module_version": "1.2.0",
      "_model_name": "LayoutModel",
      "_view_count": null,
      "_view_module": "@jupyter-widgets/base",
      "_view_module_version": "1.2.0",
      "_view_name": "LayoutView",
      "align_content": null,
      "align_items": null,
      "align_self": null,
      "border": null,
      "bottom": null,
      "display": null,
      "flex": null,
      "flex_flow": null,
      "grid_area": null,
      "grid_auto_columns": null,
      "grid_auto_flow": null,
      "grid_auto_rows": null,
      "grid_column": null,
      "grid_gap": null,
      "grid_row": null,
      "grid_template_areas": null,
      "grid_template_columns": null,
      "grid_template_rows": null,
      "height": null,
      "justify_content": null,
      "justify_items": null,
      "left": null,
      "margin": null,
      "max_height": null,
      "max_width": null,
      "min_height": null,
      "min_width": null,
      "object_fit": null,
      "object_position": null,
      "order": null,
      "overflow": null,
      "overflow_x": null,
      "overflow_y": null,
      "padding": null,
      "right": null,
      "top": null,
      "visibility": null,
      "width": null
     }
    },
    "9aed4b9ff1884d2385acfd85076fd759": {
     "model_module": "@jupyter-widgets/base",
     "model_module_version": "1.2.0",
     "model_name": "LayoutModel",
     "state": {
      "_model_module": "@jupyter-widgets/base",
      "_model_module_version": "1.2.0",
      "_model_name": "LayoutModel",
      "_view_count": null,
      "_view_module": "@jupyter-widgets/base",
      "_view_module_version": "1.2.0",
      "_view_name": "LayoutView",
      "align_content": null,
      "align_items": null,
      "align_self": null,
      "border": null,
      "bottom": null,
      "display": null,
      "flex": null,
      "flex_flow": null,
      "grid_area": null,
      "grid_auto_columns": null,
      "grid_auto_flow": null,
      "grid_auto_rows": null,
      "grid_column": null,
      "grid_gap": null,
      "grid_row": null,
      "grid_template_areas": null,
      "grid_template_columns": null,
      "grid_template_rows": null,
      "height": null,
      "justify_content": null,
      "justify_items": null,
      "left": null,
      "margin": null,
      "max_height": null,
      "max_width": null,
      "min_height": null,
      "min_width": null,
      "object_fit": null,
      "object_position": null,
      "order": null,
      "overflow": null,
      "overflow_x": null,
      "overflow_y": null,
      "padding": null,
      "right": null,
      "top": null,
      "visibility": null,
      "width": null
     }
    },
    "accaabe89a1e4490b422713403a00273": {
     "model_module": "@jupyter-widgets/controls",
     "model_module_version": "1.5.0",
     "model_name": "HTMLModel",
     "state": {
      "_dom_classes": [],
      "_model_module": "@jupyter-widgets/controls",
      "_model_module_version": "1.5.0",
      "_model_name": "HTMLModel",
      "_view_count": null,
      "_view_module": "@jupyter-widgets/controls",
      "_view_module_version": "1.5.0",
      "_view_name": "HTMLView",
      "description": "",
      "description_tooltip": null,
      "layout": "IPY_MODEL_d7e4715e4097496cabea74d65b6fc856",
      "placeholder": "​",
      "style": "IPY_MODEL_193817a2f6b746748fcdf6ebe260e55c",
      "value": "100%"
     }
    },
    "ad86f61c98c74cc7b58387c0cd056240": {
     "model_module": "@jupyter-widgets/controls",
     "model_module_version": "1.5.0",
     "model_name": "FloatProgressModel",
     "state": {
      "_dom_classes": [],
      "_model_module": "@jupyter-widgets/controls",
      "_model_module_version": "1.5.0",
      "_model_name": "FloatProgressModel",
      "_view_count": null,
      "_view_module": "@jupyter-widgets/controls",
      "_view_module_version": "1.5.0",
      "_view_name": "ProgressView",
      "bar_style": "success",
      "description": "",
      "description_tooltip": null,
      "layout": "IPY_MODEL_e87a855ab1904cb09b5cae494c96f8a0",
      "max": 30,
      "min": 0,
      "orientation": "horizontal",
      "style": "IPY_MODEL_061bf429d8a64948882036d03859bd32",
      "value": 30
     }
    },
    "ae968e21e80343d78d8f09d04248dca9": {
     "model_module": "@jupyter-widgets/controls",
     "model_module_version": "1.5.0",
     "model_name": "ProgressStyleModel",
     "state": {
      "_model_module": "@jupyter-widgets/controls",
      "_model_module_version": "1.5.0",
      "_model_name": "ProgressStyleModel",
      "_view_count": null,
      "_view_module": "@jupyter-widgets/base",
      "_view_module_version": "1.2.0",
      "_view_name": "StyleView",
      "bar_color": null,
      "description_width": ""
     }
    },
    "aff72ff9298b47f4a9d0683a9ef8935c": {
     "model_module": "@jupyter-widgets/controls",
     "model_module_version": "1.5.0",
     "model_name": "HTMLModel",
     "state": {
      "_dom_classes": [],
      "_model_module": "@jupyter-widgets/controls",
      "_model_module_version": "1.5.0",
      "_model_name": "HTMLModel",
      "_view_count": null,
      "_view_module": "@jupyter-widgets/controls",
      "_view_module_version": "1.5.0",
      "_view_name": "HTMLView",
      "description": "",
      "description_tooltip": null,
      "layout": "IPY_MODEL_b592f2d6d3fb441983f08bc73de7d186",
      "placeholder": "​",
      "style": "IPY_MODEL_fda3bfbdb0d14ceb91e8edb620f696c6",
      "value": " 30/30 [00:00&lt;00:00, 1203.08it/s]"
     }
    },
    "b592f2d6d3fb441983f08bc73de7d186": {
     "model_module": "@jupyter-widgets/base",
     "model_module_version": "1.2.0",
     "model_name": "LayoutModel",
     "state": {
      "_model_module": "@jupyter-widgets/base",
      "_model_module_version": "1.2.0",
      "_model_name": "LayoutModel",
      "_view_count": null,
      "_view_module": "@jupyter-widgets/base",
      "_view_module_version": "1.2.0",
      "_view_name": "LayoutView",
      "align_content": null,
      "align_items": null,
      "align_self": null,
      "border": null,
      "bottom": null,
      "display": null,
      "flex": null,
      "flex_flow": null,
      "grid_area": null,
      "grid_auto_columns": null,
      "grid_auto_flow": null,
      "grid_auto_rows": null,
      "grid_column": null,
      "grid_gap": null,
      "grid_row": null,
      "grid_template_areas": null,
      "grid_template_columns": null,
      "grid_template_rows": null,
      "height": null,
      "justify_content": null,
      "justify_items": null,
      "left": null,
      "margin": null,
      "max_height": null,
      "max_width": null,
      "min_height": null,
      "min_width": null,
      "object_fit": null,
      "object_position": null,
      "order": null,
      "overflow": null,
      "overflow_x": null,
      "overflow_y": null,
      "padding": null,
      "right": null,
      "top": null,
      "visibility": null,
      "width": null
     }
    },
    "c6ce4d6bbddf4a439e45431d3f3bb5e4": {
     "model_module": "@jupyter-widgets/base",
     "model_module_version": "1.2.0",
     "model_name": "LayoutModel",
     "state": {
      "_model_module": "@jupyter-widgets/base",
      "_model_module_version": "1.2.0",
      "_model_name": "LayoutModel",
      "_view_count": null,
      "_view_module": "@jupyter-widgets/base",
      "_view_module_version": "1.2.0",
      "_view_name": "LayoutView",
      "align_content": null,
      "align_items": null,
      "align_self": null,
      "border": null,
      "bottom": null,
      "display": null,
      "flex": null,
      "flex_flow": null,
      "grid_area": null,
      "grid_auto_columns": null,
      "grid_auto_flow": null,
      "grid_auto_rows": null,
      "grid_column": null,
      "grid_gap": null,
      "grid_row": null,
      "grid_template_areas": null,
      "grid_template_columns": null,
      "grid_template_rows": null,
      "height": null,
      "justify_content": null,
      "justify_items": null,
      "left": null,
      "margin": null,
      "max_height": null,
      "max_width": null,
      "min_height": null,
      "min_width": null,
      "object_fit": null,
      "object_position": null,
      "order": null,
      "overflow": null,
      "overflow_x": null,
      "overflow_y": null,
      "padding": null,
      "right": null,
      "top": null,
      "visibility": null,
      "width": null
     }
    },
    "c82cc70e07924c8894639b77c686f26f": {
     "model_module": "@jupyter-widgets/controls",
     "model_module_version": "1.5.0",
     "model_name": "HTMLModel",
     "state": {
      "_dom_classes": [],
      "_model_module": "@jupyter-widgets/controls",
      "_model_module_version": "1.5.0",
      "_model_name": "HTMLModel",
      "_view_count": null,
      "_view_module": "@jupyter-widgets/controls",
      "_view_module_version": "1.5.0",
      "_view_name": "HTMLView",
      "description": "",
      "description_tooltip": null,
      "layout": "IPY_MODEL_576594e15f374830b1737e5e2438710b",
      "placeholder": "​",
      "style": "IPY_MODEL_818dcc23ef1b4a80b4d880e1d4732c01",
      "value": " 12/12 [00:46&lt;00:00,  2.82s/it]"
     }
    },
    "d45a644729e64ff689ba70f2ae3031fe": {
     "model_module": "@jupyter-widgets/controls",
     "model_module_version": "1.5.0",
     "model_name": "HBoxModel",
     "state": {
      "_dom_classes": [],
      "_model_module": "@jupyter-widgets/controls",
      "_model_module_version": "1.5.0",
      "_model_name": "HBoxModel",
      "_view_count": null,
      "_view_module": "@jupyter-widgets/controls",
      "_view_module_version": "1.5.0",
      "_view_name": "HBoxView",
      "box_style": "",
      "children": [
       "IPY_MODEL_3c603b70c52a4f0bbb0fffb8102a6363",
       "IPY_MODEL_e5d3ff3e845f48159e823e7e80888530",
       "IPY_MODEL_f5952a02f15e4b7da530e73a2693bab5"
      ],
      "layout": "IPY_MODEL_3cc27a1a96e7464d8b0be267c5bbd8bf"
     }
    },
    "d62ac051ac4b49bfac205a1b1460fdbe": {
     "model_module": "@jupyter-widgets/controls",
     "model_module_version": "1.5.0",
     "model_name": "DescriptionStyleModel",
     "state": {
      "_model_module": "@jupyter-widgets/controls",
      "_model_module_version": "1.5.0",
      "_model_name": "DescriptionStyleModel",
      "_view_count": null,
      "_view_module": "@jupyter-widgets/base",
      "_view_module_version": "1.2.0",
      "_view_name": "StyleView",
      "description_width": ""
     }
    },
    "d7e4715e4097496cabea74d65b6fc856": {
     "model_module": "@jupyter-widgets/base",
     "model_module_version": "1.2.0",
     "model_name": "LayoutModel",
     "state": {
      "_model_module": "@jupyter-widgets/base",
      "_model_module_version": "1.2.0",
      "_model_name": "LayoutModel",
      "_view_count": null,
      "_view_module": "@jupyter-widgets/base",
      "_view_module_version": "1.2.0",
      "_view_name": "LayoutView",
      "align_content": null,
      "align_items": null,
      "align_self": null,
      "border": null,
      "bottom": null,
      "display": null,
      "flex": null,
      "flex_flow": null,
      "grid_area": null,
      "grid_auto_columns": null,
      "grid_auto_flow": null,
      "grid_auto_rows": null,
      "grid_column": null,
      "grid_gap": null,
      "grid_row": null,
      "grid_template_areas": null,
      "grid_template_columns": null,
      "grid_template_rows": null,
      "height": null,
      "justify_content": null,
      "justify_items": null,
      "left": null,
      "margin": null,
      "max_height": null,
      "max_width": null,
      "min_height": null,
      "min_width": null,
      "object_fit": null,
      "object_position": null,
      "order": null,
      "overflow": null,
      "overflow_x": null,
      "overflow_y": null,
      "padding": null,
      "right": null,
      "top": null,
      "visibility": null,
      "width": null
     }
    },
    "dbc51ab840a64c2c86c588d7de3293c5": {
     "model_module": "@jupyter-widgets/base",
     "model_module_version": "1.2.0",
     "model_name": "LayoutModel",
     "state": {
      "_model_module": "@jupyter-widgets/base",
      "_model_module_version": "1.2.0",
      "_model_name": "LayoutModel",
      "_view_count": null,
      "_view_module": "@jupyter-widgets/base",
      "_view_module_version": "1.2.0",
      "_view_name": "LayoutView",
      "align_content": null,
      "align_items": null,
      "align_self": null,
      "border": null,
      "bottom": null,
      "display": null,
      "flex": null,
      "flex_flow": null,
      "grid_area": null,
      "grid_auto_columns": null,
      "grid_auto_flow": null,
      "grid_auto_rows": null,
      "grid_column": null,
      "grid_gap": null,
      "grid_row": null,
      "grid_template_areas": null,
      "grid_template_columns": null,
      "grid_template_rows": null,
      "height": null,
      "justify_content": null,
      "justify_items": null,
      "left": null,
      "margin": null,
      "max_height": null,
      "max_width": null,
      "min_height": null,
      "min_width": null,
      "object_fit": null,
      "object_position": null,
      "order": null,
      "overflow": null,
      "overflow_x": null,
      "overflow_y": null,
      "padding": null,
      "right": null,
      "top": null,
      "visibility": null,
      "width": null
     }
    },
    "e5d3ff3e845f48159e823e7e80888530": {
     "model_module": "@jupyter-widgets/controls",
     "model_module_version": "1.5.0",
     "model_name": "FloatProgressModel",
     "state": {
      "_dom_classes": [],
      "_model_module": "@jupyter-widgets/controls",
      "_model_module_version": "1.5.0",
      "_model_name": "FloatProgressModel",
      "_view_count": null,
      "_view_module": "@jupyter-widgets/controls",
      "_view_module_version": "1.5.0",
      "_view_name": "ProgressView",
      "bar_style": "success",
      "description": "",
      "description_tooltip": null,
      "layout": "IPY_MODEL_78f9b15e4ed14d5fa80b10456fba1487",
      "max": 30,
      "min": 0,
      "orientation": "horizontal",
      "style": "IPY_MODEL_958d65423cad43b59d6cefbba4ae2952",
      "value": 30
     }
    },
    "e87a855ab1904cb09b5cae494c96f8a0": {
     "model_module": "@jupyter-widgets/base",
     "model_module_version": "1.2.0",
     "model_name": "LayoutModel",
     "state": {
      "_model_module": "@jupyter-widgets/base",
      "_model_module_version": "1.2.0",
      "_model_name": "LayoutModel",
      "_view_count": null,
      "_view_module": "@jupyter-widgets/base",
      "_view_module_version": "1.2.0",
      "_view_name": "LayoutView",
      "align_content": null,
      "align_items": null,
      "align_self": null,
      "border": null,
      "bottom": null,
      "display": null,
      "flex": null,
      "flex_flow": null,
      "grid_area": null,
      "grid_auto_columns": null,
      "grid_auto_flow": null,
      "grid_auto_rows": null,
      "grid_column": null,
      "grid_gap": null,
      "grid_row": null,
      "grid_template_areas": null,
      "grid_template_columns": null,
      "grid_template_rows": null,
      "height": null,
      "justify_content": null,
      "justify_items": null,
      "left": null,
      "margin": null,
      "max_height": null,
      "max_width": null,
      "min_height": null,
      "min_width": null,
      "object_fit": null,
      "object_position": null,
      "order": null,
      "overflow": null,
      "overflow_x": null,
      "overflow_y": null,
      "padding": null,
      "right": null,
      "top": null,
      "visibility": null,
      "width": null
     }
    },
    "e96a7e0f803144af979c2b3fc72a1967": {
     "model_module": "@jupyter-widgets/controls",
     "model_module_version": "1.5.0",
     "model_name": "HTMLModel",
     "state": {
      "_dom_classes": [],
      "_model_module": "@jupyter-widgets/controls",
      "_model_module_version": "1.5.0",
      "_model_name": "HTMLModel",
      "_view_count": null,
      "_view_module": "@jupyter-widgets/controls",
      "_view_module_version": "1.5.0",
      "_view_name": "HTMLView",
      "description": "",
      "description_tooltip": null,
      "layout": "IPY_MODEL_9aed4b9ff1884d2385acfd85076fd759",
      "placeholder": "​",
      "style": "IPY_MODEL_d62ac051ac4b49bfac205a1b1460fdbe",
      "value": "100%"
     }
    },
    "eaa83d741fcf4ec5aa5fc86af55cad29": {
     "model_module": "@jupyter-widgets/controls",
     "model_module_version": "1.5.0",
     "model_name": "DescriptionStyleModel",
     "state": {
      "_model_module": "@jupyter-widgets/controls",
      "_model_module_version": "1.5.0",
      "_model_name": "DescriptionStyleModel",
      "_view_count": null,
      "_view_module": "@jupyter-widgets/base",
      "_view_module_version": "1.2.0",
      "_view_name": "StyleView",
      "description_width": ""
     }
    },
    "f1f4904a6f5842b2ac1f086c8c9feab7": {
     "model_module": "@jupyter-widgets/base",
     "model_module_version": "1.2.0",
     "model_name": "LayoutModel",
     "state": {
      "_model_module": "@jupyter-widgets/base",
      "_model_module_version": "1.2.0",
      "_model_name": "LayoutModel",
      "_view_count": null,
      "_view_module": "@jupyter-widgets/base",
      "_view_module_version": "1.2.0",
      "_view_name": "LayoutView",
      "align_content": null,
      "align_items": null,
      "align_self": null,
      "border": null,
      "bottom": null,
      "display": null,
      "flex": null,
      "flex_flow": null,
      "grid_area": null,
      "grid_auto_columns": null,
      "grid_auto_flow": null,
      "grid_auto_rows": null,
      "grid_column": null,
      "grid_gap": null,
      "grid_row": null,
      "grid_template_areas": null,
      "grid_template_columns": null,
      "grid_template_rows": null,
      "height": null,
      "justify_content": null,
      "justify_items": null,
      "left": null,
      "margin": null,
      "max_height": null,
      "max_width": null,
      "min_height": null,
      "min_width": null,
      "object_fit": null,
      "object_position": null,
      "order": null,
      "overflow": null,
      "overflow_x": null,
      "overflow_y": null,
      "padding": null,
      "right": null,
      "top": null,
      "visibility": null,
      "width": null
     }
    },
    "f3f26d4797bc4992b4a9e1d94acf9733": {
     "model_module": "@jupyter-widgets/base",
     "model_module_version": "1.2.0",
     "model_name": "LayoutModel",
     "state": {
      "_model_module": "@jupyter-widgets/base",
      "_model_module_version": "1.2.0",
      "_model_name": "LayoutModel",
      "_view_count": null,
      "_view_module": "@jupyter-widgets/base",
      "_view_module_version": "1.2.0",
      "_view_name": "LayoutView",
      "align_content": null,
      "align_items": null,
      "align_self": null,
      "border": null,
      "bottom": null,
      "display": null,
      "flex": null,
      "flex_flow": null,
      "grid_area": null,
      "grid_auto_columns": null,
      "grid_auto_flow": null,
      "grid_auto_rows": null,
      "grid_column": null,
      "grid_gap": null,
      "grid_row": null,
      "grid_template_areas": null,
      "grid_template_columns": null,
      "grid_template_rows": null,
      "height": null,
      "justify_content": null,
      "justify_items": null,
      "left": null,
      "margin": null,
      "max_height": null,
      "max_width": null,
      "min_height": null,
      "min_width": null,
      "object_fit": null,
      "object_position": null,
      "order": null,
      "overflow": null,
      "overflow_x": null,
      "overflow_y": null,
      "padding": null,
      "right": null,
      "top": null,
      "visibility": null,
      "width": null
     }
    },
    "f581e7600e2c47da8cc85a6fb98f6b9e": {
     "model_module": "@jupyter-widgets/controls",
     "model_module_version": "1.5.0",
     "model_name": "HBoxModel",
     "state": {
      "_dom_classes": [],
      "_model_module": "@jupyter-widgets/controls",
      "_model_module_version": "1.5.0",
      "_model_name": "HBoxModel",
      "_view_count": null,
      "_view_module": "@jupyter-widgets/controls",
      "_view_module_version": "1.5.0",
      "_view_name": "HBoxView",
      "box_style": "",
      "children": [
       "IPY_MODEL_4051bf76d95945a7a5dac5315ca5fa68",
       "IPY_MODEL_95c775cd74184ae382d1bf3e016d93c2",
       "IPY_MODEL_902c4f5ff5344769be11df34e7c14026"
      ],
      "layout": "IPY_MODEL_8f8aab45c3bd4e62a64fad5bbf6510d7"
     }
    },
    "f5952a02f15e4b7da530e73a2693bab5": {
     "model_module": "@jupyter-widgets/controls",
     "model_module_version": "1.5.0",
     "model_name": "HTMLModel",
     "state": {
      "_dom_classes": [],
      "_model_module": "@jupyter-widgets/controls",
      "_model_module_version": "1.5.0",
      "_model_name": "HTMLModel",
      "_view_count": null,
      "_view_module": "@jupyter-widgets/controls",
      "_view_module_version": "1.5.0",
      "_view_name": "HTMLView",
      "description": "",
      "description_tooltip": null,
      "layout": "IPY_MODEL_dbc51ab840a64c2c86c588d7de3293c5",
      "placeholder": "​",
      "style": "IPY_MODEL_6411298b50ba45b0992e1ab1a0365cc9",
      "value": " 30/30 [00:00&lt;00:00, 687.67it/s]"
     }
    },
    "faa4b10efd2b4d6c9c0da19198f24fc1": {
     "model_module": "@jupyter-widgets/controls",
     "model_module_version": "1.5.0",
     "model_name": "FloatProgressModel",
     "state": {
      "_dom_classes": [],
      "_model_module": "@jupyter-widgets/controls",
      "_model_module_version": "1.5.0",
      "_model_name": "FloatProgressModel",
      "_view_count": null,
      "_view_module": "@jupyter-widgets/controls",
      "_view_module_version": "1.5.0",
      "_view_name": "ProgressView",
      "bar_style": "success",
      "description": "",
      "description_tooltip": null,
      "layout": "IPY_MODEL_0cb84fcd40b848a2b18e83d422f5e848",
      "max": 12,
      "min": 0,
      "orientation": "horizontal",
      "style": "IPY_MODEL_ae968e21e80343d78d8f09d04248dca9",
      "value": 12
     }
    },
    "fb511bd739554f9186fa245dcc18b97c": {
     "model_module": "@jupyter-widgets/base",
     "model_module_version": "1.2.0",
     "model_name": "LayoutModel",
     "state": {
      "_model_module": "@jupyter-widgets/base",
      "_model_module_version": "1.2.0",
      "_model_name": "LayoutModel",
      "_view_count": null,
      "_view_module": "@jupyter-widgets/base",
      "_view_module_version": "1.2.0",
      "_view_name": "LayoutView",
      "align_content": null,
      "align_items": null,
      "align_self": null,
      "border": null,
      "bottom": null,
      "display": null,
      "flex": null,
      "flex_flow": null,
      "grid_area": null,
      "grid_auto_columns": null,
      "grid_auto_flow": null,
      "grid_auto_rows": null,
      "grid_column": null,
      "grid_gap": null,
      "grid_row": null,
      "grid_template_areas": null,
      "grid_template_columns": null,
      "grid_template_rows": null,
      "height": null,
      "justify_content": null,
      "justify_items": null,
      "left": null,
      "margin": null,
      "max_height": null,
      "max_width": null,
      "min_height": null,
      "min_width": null,
      "object_fit": null,
      "object_position": null,
      "order": null,
      "overflow": null,
      "overflow_x": null,
      "overflow_y": null,
      "padding": null,
      "right": null,
      "top": null,
      "visibility": null,
      "width": null
     }
    },
    "fd6a239db1c74059bf5d2b1863015d6f": {
     "model_module": "@jupyter-widgets/controls",
     "model_module_version": "1.5.0",
     "model_name": "HBoxModel",
     "state": {
      "_dom_classes": [],
      "_model_module": "@jupyter-widgets/controls",
      "_model_module_version": "1.5.0",
      "_model_name": "HBoxModel",
      "_view_count": null,
      "_view_module": "@jupyter-widgets/controls",
      "_view_module_version": "1.5.0",
      "_view_name": "HBoxView",
      "box_style": "",
      "children": [
       "IPY_MODEL_accaabe89a1e4490b422713403a00273",
       "IPY_MODEL_faa4b10efd2b4d6c9c0da19198f24fc1",
       "IPY_MODEL_c82cc70e07924c8894639b77c686f26f"
      ],
      "layout": "IPY_MODEL_f3f26d4797bc4992b4a9e1d94acf9733"
     }
    },
    "fda3bfbdb0d14ceb91e8edb620f696c6": {
     "model_module": "@jupyter-widgets/controls",
     "model_module_version": "1.5.0",
     "model_name": "DescriptionStyleModel",
     "state": {
      "_model_module": "@jupyter-widgets/controls",
      "_model_module_version": "1.5.0",
      "_model_name": "DescriptionStyleModel",
      "_view_count": null,
      "_view_module": "@jupyter-widgets/base",
      "_view_module_version": "1.2.0",
      "_view_name": "StyleView",
      "description_width": ""
     }
    }
   }
  }
 },
 "nbformat": 4,
 "nbformat_minor": 0
}
